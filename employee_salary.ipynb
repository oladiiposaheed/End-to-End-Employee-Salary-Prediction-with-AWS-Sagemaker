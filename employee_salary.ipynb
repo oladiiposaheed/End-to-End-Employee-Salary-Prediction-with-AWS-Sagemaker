{
 "cells": [
  {
   "cell_type": "markdown",
   "id": "7ac4d05b-afbf-4c69-bc53-e1a49ec20d7f",
   "metadata": {},
   "source": [
    "## End to End Employee Salary Prediction with AWS Sagemaker"
   ]
  },
  {
   "cell_type": "markdown",
   "id": "e3f01f52-aee4-4110-b03e-4334c2619d6d",
   "metadata": {},
   "source": [
    "#### TASK 1: UNDERSTAND THE PROBLEM STATEMENT"
   ]
  },
  {
   "cell_type": "markdown",
   "id": "30bd6ce4-53c8-4c26-bea6-af389a536ee1",
   "metadata": {},
   "source": [
    "* The objective of this project is to predict the salary employee using the number of years of experience as a factor.\n",
    "* In simple linear regression, we predict the value of one variable y based on variable x.\n",
    "x is called the independent/feature variable and y is called the dependant/target variable.\n",
    "* Why simple? Because it examines relationship between two variables only.\n",
    "* Why linear? when the independent variable(x) increases or decreases, the dependent variable (y) increases or decreases in a linear fashion."
   ]
  },
  {
   "cell_type": "markdown",
   "id": "8a9317fb-2b11-4ea3-8d22-ae32deafb610",
   "metadata": {},
   "source": [
    "#### TASK #2: IMPORT LIBRARIES AND LOAD DATASETS"
   ]
  },
  {
   "cell_type": "code",
   "execution_count": 64,
   "id": "ace60f7b-8c6c-4a47-8543-61a65cca160f",
   "metadata": {},
   "outputs": [],
   "source": [
    "import pandas as pd\n",
    "import numpy as np\n",
    "import seaborn as sns\n",
    "import matplotlib.pyplot as plt\n",
    "from sklearn.model_selection import train_test_split\n",
    "from sklearn.linear_model import LinearRegression\n",
    "from sklearn.metrics import mean_absolute_error, mean_squared_error, accuracy_score\n",
    "import boto3\n",
    "import sagemaker\n",
    "from sagemaker import Session\n",
    "import io ## The io module allows for dealing with various types of I/O (text I/O, binary I/O and raw I/O).\n",
    "import os\n",
    "import sagemaker.amazon.common as smac   #\n",
    "from sagemaker.amazon.amazon_estimator import get_image_uri\n",
    "from sagemaker.deserializers import JSONDeserializer\n",
    "from sagemaker.serializers import CSVSerializer\n",
    "import re"
   ]
  },
  {
   "cell_type": "code",
   "execution_count": 2,
   "id": "c0ef4cd7-4299-46d5-a0c0-c3b2349dea20",
   "metadata": {},
   "outputs": [],
   "source": [
    "df = pd.read_csv('salary.csv')"
   ]
  },
  {
   "cell_type": "code",
   "execution_count": 3,
   "id": "6cefc5f7-16bf-4ab9-9da0-2c8271cef4ba",
   "metadata": {},
   "outputs": [
    {
     "data": {
      "text/html": [
       "<div>\n",
       "<style scoped>\n",
       "    .dataframe tbody tr th:only-of-type {\n",
       "        vertical-align: middle;\n",
       "    }\n",
       "\n",
       "    .dataframe tbody tr th {\n",
       "        vertical-align: top;\n",
       "    }\n",
       "\n",
       "    .dataframe thead th {\n",
       "        text-align: right;\n",
       "    }\n",
       "</style>\n",
       "<table border=\"1\" class=\"dataframe\">\n",
       "  <thead>\n",
       "    <tr style=\"text-align: right;\">\n",
       "      <th></th>\n",
       "      <th>YearsExperience</th>\n",
       "      <th>Salary</th>\n",
       "    </tr>\n",
       "  </thead>\n",
       "  <tbody>\n",
       "    <tr>\n",
       "      <th>0</th>\n",
       "      <td>1.1</td>\n",
       "      <td>39343</td>\n",
       "    </tr>\n",
       "    <tr>\n",
       "      <th>1</th>\n",
       "      <td>1.3</td>\n",
       "      <td>46205</td>\n",
       "    </tr>\n",
       "    <tr>\n",
       "      <th>2</th>\n",
       "      <td>1.5</td>\n",
       "      <td>37731</td>\n",
       "    </tr>\n",
       "    <tr>\n",
       "      <th>3</th>\n",
       "      <td>2.0</td>\n",
       "      <td>43525</td>\n",
       "    </tr>\n",
       "    <tr>\n",
       "      <th>4</th>\n",
       "      <td>2.2</td>\n",
       "      <td>39891</td>\n",
       "    </tr>\n",
       "  </tbody>\n",
       "</table>\n",
       "</div>"
      ],
      "text/plain": [
       "   YearsExperience  Salary\n",
       "0              1.1   39343\n",
       "1              1.3   46205\n",
       "2              1.5   37731\n",
       "3              2.0   43525\n",
       "4              2.2   39891"
      ]
     },
     "execution_count": 3,
     "metadata": {},
     "output_type": "execute_result"
    }
   ],
   "source": [
    "df.head()"
   ]
  },
  {
   "cell_type": "code",
   "execution_count": 4,
   "id": "81eb977a-314b-4e68-95da-195a2aa728ba",
   "metadata": {},
   "outputs": [
    {
     "name": "stdout",
     "output_type": "stream",
     "text": [
      "Total number of rows: 35\n",
      "Total number of columns: 2\n"
     ]
    }
   ],
   "source": [
    "print('Total number of rows: {}'.format(df.shape[0]))\n",
    "print('Total number of columns: {}'.format(df.shape[1]))"
   ]
  },
  {
   "cell_type": "code",
   "execution_count": 5,
   "id": "ec94b066-c344-4129-a3d4-29811fa36aa6",
   "metadata": {},
   "outputs": [
    {
     "name": "stdout",
     "output_type": "stream",
     "text": [
      "The highest paid salary: $139465\n",
      "The least paid salary: $37731\n",
      "The average paid salary: $83945.6\n"
     ]
    }
   ],
   "source": [
    "print('The highest paid salary: ${}'.format(df['Salary'].max()))\n",
    "print('The least paid salary: ${}'.format(df['Salary'].min()))\n",
    "print('The average paid salary: ${}'.format(df['Salary'].mean()))"
   ]
  },
  {
   "cell_type": "markdown",
   "id": "0264f8b4-a963-43ce-80aa-d03d1f2fc772",
   "metadata": {},
   "source": [
    "#### TASK 3: PERFORM EXPLORATORY DATA ANALYSIS AND VISUALIZATION"
   ]
  },
  {
   "cell_type": "code",
   "execution_count": 6,
   "id": "301b4e82-9433-486c-9a41-6406db91518d",
   "metadata": {},
   "outputs": [
    {
     "data": {
      "text/html": [
       "<div>\n",
       "<style scoped>\n",
       "    .dataframe tbody tr th:only-of-type {\n",
       "        vertical-align: middle;\n",
       "    }\n",
       "\n",
       "    .dataframe tbody tr th {\n",
       "        vertical-align: top;\n",
       "    }\n",
       "\n",
       "    .dataframe thead th {\n",
       "        text-align: right;\n",
       "    }\n",
       "</style>\n",
       "<table border=\"1\" class=\"dataframe\">\n",
       "  <thead>\n",
       "    <tr style=\"text-align: right;\">\n",
       "      <th></th>\n",
       "      <th>YearsExperience</th>\n",
       "      <th>Salary</th>\n",
       "    </tr>\n",
       "  </thead>\n",
       "  <tbody>\n",
       "    <tr>\n",
       "      <th>count</th>\n",
       "      <td>35.000000</td>\n",
       "      <td>35.000000</td>\n",
       "    </tr>\n",
       "    <tr>\n",
       "      <th>mean</th>\n",
       "      <td>6.308571</td>\n",
       "      <td>83945.600000</td>\n",
       "    </tr>\n",
       "    <tr>\n",
       "      <th>std</th>\n",
       "      <td>3.618610</td>\n",
       "      <td>32162.673003</td>\n",
       "    </tr>\n",
       "    <tr>\n",
       "      <th>min</th>\n",
       "      <td>1.100000</td>\n",
       "      <td>37731.000000</td>\n",
       "    </tr>\n",
       "    <tr>\n",
       "      <th>25%</th>\n",
       "      <td>3.450000</td>\n",
       "      <td>57019.000000</td>\n",
       "    </tr>\n",
       "    <tr>\n",
       "      <th>50%</th>\n",
       "      <td>5.300000</td>\n",
       "      <td>81363.000000</td>\n",
       "    </tr>\n",
       "    <tr>\n",
       "      <th>75%</th>\n",
       "      <td>9.250000</td>\n",
       "      <td>113223.500000</td>\n",
       "    </tr>\n",
       "    <tr>\n",
       "      <th>max</th>\n",
       "      <td>13.500000</td>\n",
       "      <td>139465.000000</td>\n",
       "    </tr>\n",
       "  </tbody>\n",
       "</table>\n",
       "</div>"
      ],
      "text/plain": [
       "       YearsExperience         Salary\n",
       "count        35.000000      35.000000\n",
       "mean          6.308571   83945.600000\n",
       "std           3.618610   32162.673003\n",
       "min           1.100000   37731.000000\n",
       "25%           3.450000   57019.000000\n",
       "50%           5.300000   81363.000000\n",
       "75%           9.250000  113223.500000\n",
       "max          13.500000  139465.000000"
      ]
     },
     "execution_count": 6,
     "metadata": {},
     "output_type": "execute_result"
    }
   ],
   "source": [
    "#Summary statistics\n",
    "df.describe()"
   ]
  },
  {
   "cell_type": "code",
   "execution_count": 7,
   "id": "cb89f2ac-1c38-4ed9-a6ed-8df0ed9b9453",
   "metadata": {},
   "outputs": [
    {
     "data": {
      "text/plain": [
       "YearsExperience    0\n",
       "Salary             0\n",
       "dtype: int64"
      ]
     },
     "execution_count": 7,
     "metadata": {},
     "output_type": "execute_result"
    }
   ],
   "source": [
    "#Check for missing data\n",
    "df.isnull().sum()"
   ]
  },
  {
   "cell_type": "code",
   "execution_count": 8,
   "id": "52f3fc6d-44d0-476d-89dc-8ea8385039f9",
   "metadata": {},
   "outputs": [
    {
     "name": "stdout",
     "output_type": "stream",
     "text": [
      "<class 'pandas.core.frame.DataFrame'>\n",
      "RangeIndex: 35 entries, 0 to 34\n",
      "Data columns (total 2 columns):\n",
      " #   Column           Non-Null Count  Dtype  \n",
      "---  ------           --------------  -----  \n",
      " 0   YearsExperience  35 non-null     float64\n",
      " 1   Salary           35 non-null     int64  \n",
      "dtypes: float64(1), int64(1)\n",
      "memory usage: 688.0 bytes\n"
     ]
    }
   ],
   "source": [
    "#Check for dataframe info\n",
    "df.info()"
   ]
  },
  {
   "cell_type": "code",
   "execution_count": 9,
   "id": "696eb793-9ba7-4ca0-bd76-854719aae0c9",
   "metadata": {},
   "outputs": [],
   "source": [
    "#Convert float64 to float32\n",
    "df = df.astype('float32')"
   ]
  },
  {
   "cell_type": "code",
   "execution_count": 10,
   "id": "59849389-3657-447c-aa60-e6dfb6702d85",
   "metadata": {},
   "outputs": [
    {
     "name": "stdout",
     "output_type": "stream",
     "text": [
      "<class 'pandas.core.frame.DataFrame'>\n",
      "RangeIndex: 35 entries, 0 to 34\n",
      "Data columns (total 2 columns):\n",
      " #   Column           Non-Null Count  Dtype  \n",
      "---  ------           --------------  -----  \n",
      " 0   YearsExperience  35 non-null     float32\n",
      " 1   Salary           35 non-null     float32\n",
      "dtypes: float32(2)\n",
      "memory usage: 408.0 bytes\n"
     ]
    }
   ],
   "source": [
    "df.info()"
   ]
  },
  {
   "cell_type": "code",
   "execution_count": 11,
   "id": "7a2eb7eb-00e6-4306-8c8d-1dcc463e0f11",
   "metadata": {},
   "outputs": [
    {
     "data": {
      "text/plain": [
       "<Axes: >"
      ]
     },
     "execution_count": 11,
     "metadata": {},
     "output_type": "execute_result"
    },
    {
     "data": {
      "image/png": "[encoded data removed]",
      "text/plain": [
       "<Figure size 640x480 with 1 Axes>"
      ]
     },
     "metadata": {},
     "output_type": "display_data"
    }
   ],
   "source": [
    "sns.heatmap(df.isnull(), yticklabels=False, cbar=False, cmap='Blues')"
   ]
  },
  {
   "cell_type": "code",
   "execution_count": 12,
   "id": "59152f4d-fda0-43c1-8949-3528f23291ad",
   "metadata": {},
   "outputs": [
    {
     "data": {
      "image/png": "[encoded data removed]",
      "text/plain": [
       "<Figure size 2000x1000 with 2 Axes>"
      ]
     },
     "metadata": {},
     "output_type": "display_data"
    }
   ],
   "source": [
    "#Plot histogram\n",
    "df.hist(bins=30, figsize=(20, 10), color = 'g')\n",
    "plt.show()"
   ]
  },
  {
   "cell_type": "code",
   "execution_count": 13,
   "id": "16b35552-d711-4da2-9562-d400bad03fd0",
   "metadata": {},
   "outputs": [
    {
     "data": {
      "image/png": "[encoded data removed]",
      "text/plain": [
       "<Figure size 500x500 with 6 Axes>"
      ]
     },
     "metadata": {},
     "output_type": "display_data"
    }
   ],
   "source": [
    "#Plot pairplot\n",
    "sns.pairplot(df)\n",
    "plt.show()"
   ]
  },
  {
   "cell_type": "code",
   "execution_count": 14,
   "id": "e2c24e1c-cd3c-4f3e-bc42-bdde24ce33ba",
   "metadata": {},
   "outputs": [
    {
     "data": {
      "text/plain": [
       "<Axes: >"
      ]
     },
     "execution_count": 14,
     "metadata": {},
     "output_type": "execute_result"
    },
    {
     "data": {
      "image/png": "[encoded data removed]",
      "text/plain": [
       "<Figure size 640x480 with 1 Axes>"
      ]
     },
     "metadata": {},
     "output_type": "display_data"
    }
   ],
   "source": [
    "#Plot boxplot for employee salary\n",
    "sns.boxplot(df)"
   ]
  },
  {
   "cell_type": "code",
   "execution_count": 15,
   "id": "67b9fa02-2a47-45b2-a6ff-3254df2c05b1",
   "metadata": {},
   "outputs": [
    {
     "data": {
      "text/plain": [
       "<Axes: >"
      ]
     },
     "execution_count": 15,
     "metadata": {},
     "output_type": "execute_result"
    },
    {
     "data": {
      "image/png": "[encoded data removed]",
      "text/plain": [
       "<Figure size 640x480 with 2 Axes>"
      ]
     },
     "metadata": {},
     "output_type": "display_data"
    }
   ],
   "source": [
    "#Plot the heatmap \n",
    "corr = df.corr()\n",
    "sns.heatmap(corr, annot=True)"
   ]
  },
  {
   "cell_type": "markdown",
   "id": "93aadbbd-98f5-42fe-aee5-908d6d8d2cd5",
   "metadata": {},
   "source": [
    "#### TASK 4: CREATE TRAINING AND TESTING DATASET"
   ]
  },
  {
   "cell_type": "markdown",
   "id": "ed94aa31-caaa-4bc1-95c0-c92df13b1a67",
   "metadata": {},
   "source": [
    "Split the dataset into features and target"
   ]
  },
  {
   "cell_type": "code",
   "execution_count": 16,
   "id": "e67fcfe8-d0c2-4c81-af65-397d87097029",
   "metadata": {},
   "outputs": [],
   "source": [
    "X = df[['YearsExperience']]   # Feature\n",
    "y = df[['Salary']]   # Target"
   ]
  },
  {
   "cell_type": "code",
   "execution_count": 17,
   "id": "e2795e2c-fdad-4664-92d7-f7cfd447bb3e",
   "metadata": {},
   "outputs": [
    {
     "data": {
      "text/html": [
       "<div>\n",
       "<style scoped>\n",
       "    .dataframe tbody tr th:only-of-type {\n",
       "        vertical-align: middle;\n",
       "    }\n",
       "\n",
       "    .dataframe tbody tr th {\n",
       "        vertical-align: top;\n",
       "    }\n",
       "\n",
       "    .dataframe thead th {\n",
       "        text-align: right;\n",
       "    }\n",
       "</style>\n",
       "<table border=\"1\" class=\"dataframe\">\n",
       "  <thead>\n",
       "    <tr style=\"text-align: right;\">\n",
       "      <th></th>\n",
       "      <th>YearsExperience</th>\n",
       "    </tr>\n",
       "  </thead>\n",
       "  <tbody>\n",
       "    <tr>\n",
       "      <th>0</th>\n",
       "      <td>1.1</td>\n",
       "    </tr>\n",
       "    <tr>\n",
       "      <th>1</th>\n",
       "      <td>1.3</td>\n",
       "    </tr>\n",
       "    <tr>\n",
       "      <th>2</th>\n",
       "      <td>1.5</td>\n",
       "    </tr>\n",
       "    <tr>\n",
       "      <th>3</th>\n",
       "      <td>2.0</td>\n",
       "    </tr>\n",
       "    <tr>\n",
       "      <th>4</th>\n",
       "      <td>2.2</td>\n",
       "    </tr>\n",
       "  </tbody>\n",
       "</table>\n",
       "</div>"
      ],
      "text/plain": [
       "   YearsExperience\n",
       "0              1.1\n",
       "1              1.3\n",
       "2              1.5\n",
       "3              2.0\n",
       "4              2.2"
      ]
     },
     "execution_count": 17,
     "metadata": {},
     "output_type": "execute_result"
    }
   ],
   "source": [
    "X.head()"
   ]
  },
  {
   "cell_type": "code",
   "execution_count": 18,
   "id": "d9935fe4-a6e7-4961-bb72-f24234fdffe0",
   "metadata": {},
   "outputs": [
    {
     "data": {
      "text/html": [
       "<div>\n",
       "<style scoped>\n",
       "    .dataframe tbody tr th:only-of-type {\n",
       "        vertical-align: middle;\n",
       "    }\n",
       "\n",
       "    .dataframe tbody tr th {\n",
       "        vertical-align: top;\n",
       "    }\n",
       "\n",
       "    .dataframe thead th {\n",
       "        text-align: right;\n",
       "    }\n",
       "</style>\n",
       "<table border=\"1\" class=\"dataframe\">\n",
       "  <thead>\n",
       "    <tr style=\"text-align: right;\">\n",
       "      <th></th>\n",
       "      <th>Salary</th>\n",
       "    </tr>\n",
       "  </thead>\n",
       "  <tbody>\n",
       "    <tr>\n",
       "      <th>0</th>\n",
       "      <td>39343.0</td>\n",
       "    </tr>\n",
       "    <tr>\n",
       "      <th>1</th>\n",
       "      <td>46205.0</td>\n",
       "    </tr>\n",
       "    <tr>\n",
       "      <th>2</th>\n",
       "      <td>37731.0</td>\n",
       "    </tr>\n",
       "    <tr>\n",
       "      <th>3</th>\n",
       "      <td>43525.0</td>\n",
       "    </tr>\n",
       "    <tr>\n",
       "      <th>4</th>\n",
       "      <td>39891.0</td>\n",
       "    </tr>\n",
       "  </tbody>\n",
       "</table>\n",
       "</div>"
      ],
      "text/plain": [
       "    Salary\n",
       "0  39343.0\n",
       "1  46205.0\n",
       "2  37731.0\n",
       "3  43525.0\n",
       "4  39891.0"
      ]
     },
     "execution_count": 18,
     "metadata": {},
     "output_type": "execute_result"
    }
   ],
   "source": [
    "y.head()"
   ]
  },
  {
   "cell_type": "code",
   "execution_count": 19,
   "id": "7e0485de-e367-432a-9c9c-af2d06a447bc",
   "metadata": {},
   "outputs": [
    {
     "data": {
      "text/plain": [
       "((35, 1), (35, 1))"
      ]
     },
     "execution_count": 19,
     "metadata": {},
     "output_type": "execute_result"
    }
   ],
   "source": [
    "X.shape, y.shape"
   ]
  },
  {
   "cell_type": "code",
   "execution_count": 20,
   "id": "5e394764-0b18-46fa-9303-80ca876e0956",
   "metadata": {},
   "outputs": [
    {
     "data": {
      "text/plain": [
       "array([[1.10000002],\n",
       "       [1.29999995],\n",
       "       [1.5       ],\n",
       "       [2.        ],\n",
       "       [2.20000005],\n",
       "       [2.9000001 ]])"
      ]
     },
     "execution_count": 20,
     "metadata": {},
     "output_type": "execute_result"
    }
   ],
   "source": [
    "X = np.array(X).astype('float')\n",
    "y = np.array(y).astype('float')\n",
    "X[:6]"
   ]
  },
  {
   "cell_type": "code",
   "execution_count": 21,
   "id": "e4de7e39-2e60-4a7f-90b2-f6368ff5b26f",
   "metadata": {},
   "outputs": [
    {
     "data": {
      "text/plain": [
       "array([[39343.],\n",
       "       [46205.],\n",
       "       [37731.],\n",
       "       [43525.],\n",
       "       [39891.],\n",
       "       [56642.]])"
      ]
     },
     "execution_count": 21,
     "metadata": {},
     "output_type": "execute_result"
    }
   ],
   "source": [
    "y[:6]"
   ]
  },
  {
   "cell_type": "markdown",
   "id": "97728bb0-61b4-4007-a002-db1b9df07fed",
   "metadata": {},
   "source": [
    "#### TASK #5: TRAIN A LINEAR REGRESSION MODEL"
   ]
  },
  {
   "cell_type": "markdown",
   "id": "4c1d758e-80bc-4eed-8b3c-bfe38802f25e",
   "metadata": {},
   "source": [
    "Split the data into training and test sets"
   ]
  },
  {
   "cell_type": "code",
   "execution_count": 22,
   "id": "4abd3693-7139-47fd-b0b4-e8f68d3d6894",
   "metadata": {},
   "outputs": [],
   "source": [
    "X_train, X_test, y_train, y_test = train_test_split(X, y, test_size=.2, random_state=41)"
   ]
  },
  {
   "cell_type": "code",
   "execution_count": 23,
   "id": "2058de7d-2ca7-46fd-b4a2-9b1118726642",
   "metadata": {},
   "outputs": [
    {
     "data": {
      "text/plain": [
       "((28, 1), (7, 1))"
      ]
     },
     "execution_count": 23,
     "metadata": {},
     "output_type": "execute_result"
    }
   ],
   "source": [
    "X_train.shape, X_test.shape"
   ]
  },
  {
   "cell_type": "code",
   "execution_count": 24,
   "id": "6404c8d4-896e-4e7d-abe0-fcf4cd607194",
   "metadata": {},
   "outputs": [
    {
     "data": {
      "text/html": [
       "<style>#sk-container-id-1 {\n",
       "  /* Definition of color scheme common for light and dark mode */\n",
       "  --sklearn-color-text: black;\n",
       "  --sklearn-color-line: gray;\n",
       "  /* Definition of color scheme for unfitted estimators */\n",
       "  --sklearn-color-unfitted-level-0: #fff5e6;\n",
       "  --sklearn-color-unfitted-level-1: #f6e4d2;\n",
       "  --sklearn-color-unfitted-level-2: #ffe0b3;\n",
       "  --sklearn-color-unfitted-level-3: chocolate;\n",
       "  /* Definition of color scheme for fitted estimators */\n",
       "  --sklearn-color-fitted-level-0: #f0f8ff;\n",
       "  --sklearn-color-fitted-level-1: #d4ebff;\n",
       "  --sklearn-color-fitted-level-2: #b3dbfd;\n",
       "  --sklearn-color-fitted-level-3: cornflowerblue;\n",
       "\n",
       "  /* Specific color for light theme */\n",
       "  --sklearn-color-text-on-default-background: var(--sg-text-color, var(--theme-code-foreground, var(--jp-content-font-color1, black)));\n",
       "  --sklearn-color-background: var(--sg-background-color, var(--theme-background, var(--jp-layout-color0, white)));\n",
       "  --sklearn-color-border-box: var(--sg-text-color, var(--theme-code-foreground, var(--jp-content-font-color1, black)));\n",
       "  --sklearn-color-icon: #696969;\n",
       "\n",
       "  @media (prefers-color-scheme: dark) {\n",
       "    /* Redefinition of color scheme for dark theme */\n",
       "    --sklearn-color-text-on-default-background: var(--sg-text-color, var(--theme-code-foreground, var(--jp-content-font-color1, white)));\n",
       "    --sklearn-color-background: var(--sg-background-color, var(--theme-background, var(--jp-layout-color0, #111)));\n",
       "    --sklearn-color-border-box: var(--sg-text-color, var(--theme-code-foreground, var(--jp-content-font-color1, white)));\n",
       "    --sklearn-color-icon: #878787;\n",
       "  }\n",
       "}\n",
       "\n",
       "#sk-container-id-1 {\n",
       "  color: var(--sklearn-color-text);\n",
       "}\n",
       "\n",
       "#sk-container-id-1 pre {\n",
       "  padding: 0;\n",
       "}\n",
       "\n",
       "#sk-container-id-1 input.sk-hidden--visually {\n",
       "  border: 0;\n",
       "  clip: rect(1px 1px 1px 1px);\n",
       "  clip: rect(1px, 1px, 1px, 1px);\n",
       "  height: 1px;\n",
       "  margin: -1px;\n",
       "  overflow: hidden;\n",
       "  padding: 0;\n",
       "  position: absolute;\n",
       "  width: 1px;\n",
       "}\n",
       "\n",
       "#sk-container-id-1 div.sk-dashed-wrapped {\n",
       "  border: 1px dashed var(--sklearn-color-line);\n",
       "  margin: 0 0.4em 0.5em 0.4em;\n",
       "  box-sizing: border-box;\n",
       "  padding-bottom: 0.4em;\n",
       "  background-color: var(--sklearn-color-background);\n",
       "}\n",
       "\n",
       "#sk-container-id-1 div.sk-container {\n",
       "  /* jupyter's `normalize.less` sets `[hidden] { display: none; }`\n",
       "     but bootstrap.min.css set `[hidden] { display: none !important; }`\n",
       "     so we also need the `!important` here to be able to override the\n",
       "     default hidden behavior on the sphinx rendered scikit-learn.org.\n",
       "     See: https://github.com/scikit-learn/scikit-learn/issues/21755 */\n",
       "  display: inline-block !important;\n",
       "  position: relative;\n",
       "}\n",
       "\n",
       "#sk-container-id-1 div.sk-text-repr-fallback {\n",
       "  display: none;\n",
       "}\n",
       "\n",
       "div.sk-parallel-item,\n",
       "div.sk-serial,\n",
       "div.sk-item {\n",
       "  /* draw centered vertical line to link estimators */\n",
       "  background-image: linear-gradient(var(--sklearn-color-text-on-default-background), var(--sklearn-color-text-on-default-background));\n",
       "  background-size: 2px 100%;\n",
       "  background-repeat: no-repeat;\n",
       "  background-position: center center;\n",
       "}\n",
       "\n",
       "/* Parallel-specific style estimator block */\n",
       "\n",
       "#sk-container-id-1 div.sk-parallel-item::after {\n",
       "  content: \"\";\n",
       "  width: 100%;\n",
       "  border-bottom: 2px solid var(--sklearn-color-text-on-default-background);\n",
       "  flex-grow: 1;\n",
       "}\n",
       "\n",
       "#sk-container-id-1 div.sk-parallel {\n",
       "  display: flex;\n",
       "  align-items: stretch;\n",
       "  justify-content: center;\n",
       "  background-color: var(--sklearn-color-background);\n",
       "  position: relative;\n",
       "}\n",
       "\n",
       "#sk-container-id-1 div.sk-parallel-item {\n",
       "  display: flex;\n",
       "  flex-direction: column;\n",
       "}\n",
       "\n",
       "#sk-container-id-1 div.sk-parallel-item:first-child::after {\n",
       "  align-self: flex-end;\n",
       "  width: 50%;\n",
       "}\n",
       "\n",
       "#sk-container-id-1 div.sk-parallel-item:last-child::after {\n",
       "  align-self: flex-start;\n",
       "  width: 50%;\n",
       "}\n",
       "\n",
       "#sk-container-id-1 div.sk-parallel-item:only-child::after {\n",
       "  width: 0;\n",
       "}\n",
       "\n",
       "/* Serial-specific style estimator block */\n",
       "\n",
       "#sk-container-id-1 div.sk-serial {\n",
       "  display: flex;\n",
       "  flex-direction: column;\n",
       "  align-items: center;\n",
       "  background-color: var(--sklearn-color-background);\n",
       "  padding-right: 1em;\n",
       "  padding-left: 1em;\n",
       "}\n",
       "\n",
       "\n",
       "/* Toggleable style: style used for estimator/Pipeline/ColumnTransformer box that is\n",
       "clickable and can be expanded/collapsed.\n",
       "- Pipeline and ColumnTransformer use this feature and define the default style\n",
       "- Estimators will overwrite some part of the style using the `sk-estimator` class\n",
       "*/\n",
       "\n",
       "/* Pipeline and ColumnTransformer style (default) */\n",
       "\n",
       "#sk-container-id-1 div.sk-toggleable {\n",
       "  /* Default theme specific background. It is overwritten whether we have a\n",
       "  specific estimator or a Pipeline/ColumnTransformer */\n",
       "  background-color: var(--sklearn-color-background);\n",
       "}\n",
       "\n",
       "/* Toggleable label */\n",
       "#sk-container-id-1 label.sk-toggleable__label {\n",
       "  cursor: pointer;\n",
       "  display: block;\n",
       "  width: 100%;\n",
       "  margin-bottom: 0;\n",
       "  padding: 0.5em;\n",
       "  box-sizing: border-box;\n",
       "  text-align: center;\n",
       "}\n",
       "\n",
       "#sk-container-id-1 label.sk-toggleable__label-arrow:before {\n",
       "  /* Arrow on the left of the label */\n",
       "  content: \"▸\";\n",
       "  float: left;\n",
       "  margin-right: 0.25em;\n",
       "  color: var(--sklearn-color-icon);\n",
       "}\n",
       "\n",
       "#sk-container-id-1 label.sk-toggleable__label-arrow:hover:before {\n",
       "  color: var(--sklearn-color-text);\n",
       "}\n",
       "\n",
       "/* Toggleable content - dropdown */\n",
       "\n",
       "#sk-container-id-1 div.sk-toggleable__content {\n",
       "  max-height: 0;\n",
       "  max-width: 0;\n",
       "  overflow: hidden;\n",
       "  text-align: left;\n",
       "  /* unfitted */\n",
       "  background-color: var(--sklearn-color-unfitted-level-0);\n",
       "}\n",
       "\n",
       "#sk-container-id-1 div.sk-toggleable__content.fitted {\n",
       "  /* fitted */\n",
       "  background-color: var(--sklearn-color-fitted-level-0);\n",
       "}\n",
       "\n",
       "#sk-container-id-1 div.sk-toggleable__content pre {\n",
       "  margin: 0.2em;\n",
       "  border-radius: 0.25em;\n",
       "  color: var(--sklearn-color-text);\n",
       "  /* unfitted */\n",
       "  background-color: var(--sklearn-color-unfitted-level-0);\n",
       "}\n",
       "\n",
       "#sk-container-id-1 div.sk-toggleable__content.fitted pre {\n",
       "  /* unfitted */\n",
       "  background-color: var(--sklearn-color-fitted-level-0);\n",
       "}\n",
       "\n",
       "#sk-container-id-1 input.sk-toggleable__control:checked~div.sk-toggleable__content {\n",
       "  /* Expand drop-down */\n",
       "  max-height: 200px;\n",
       "  max-width: 100%;\n",
       "  overflow: auto;\n",
       "}\n",
       "\n",
       "#sk-container-id-1 input.sk-toggleable__control:checked~label.sk-toggleable__label-arrow:before {\n",
       "  content: \"▾\";\n",
       "}\n",
       "\n",
       "/* Pipeline/ColumnTransformer-specific style */\n",
       "\n",
       "#sk-container-id-1 div.sk-label input.sk-toggleable__control:checked~label.sk-toggleable__label {\n",
       "  color: var(--sklearn-color-text);\n",
       "  background-color: var(--sklearn-color-unfitted-level-2);\n",
       "}\n",
       "\n",
       "#sk-container-id-1 div.sk-label.fitted input.sk-toggleable__control:checked~label.sk-toggleable__label {\n",
       "  background-color: var(--sklearn-color-fitted-level-2);\n",
       "}\n",
       "\n",
       "/* Estimator-specific style */\n",
       "\n",
       "/* Colorize estimator box */\n",
       "#sk-container-id-1 div.sk-estimator input.sk-toggleable__control:checked~label.sk-toggleable__label {\n",
       "  /* unfitted */\n",
       "  background-color: var(--sklearn-color-unfitted-level-2);\n",
       "}\n",
       "\n",
       "#sk-container-id-1 div.sk-estimator.fitted input.sk-toggleable__control:checked~label.sk-toggleable__label {\n",
       "  /* fitted */\n",
       "  background-color: var(--sklearn-color-fitted-level-2);\n",
       "}\n",
       "\n",
       "#sk-container-id-1 div.sk-label label.sk-toggleable__label,\n",
       "#sk-container-id-1 div.sk-label label {\n",
       "  /* The background is the default theme color */\n",
       "  color: var(--sklearn-color-text-on-default-background);\n",
       "}\n",
       "\n",
       "/* On hover, darken the color of the background */\n",
       "#sk-container-id-1 div.sk-label:hover label.sk-toggleable__label {\n",
       "  color: var(--sklearn-color-text);\n",
       "  background-color: var(--sklearn-color-unfitted-level-2);\n",
       "}\n",
       "\n",
       "/* Label box, darken color on hover, fitted */\n",
       "#sk-container-id-1 div.sk-label.fitted:hover label.sk-toggleable__label.fitted {\n",
       "  color: var(--sklearn-color-text);\n",
       "  background-color: var(--sklearn-color-fitted-level-2);\n",
       "}\n",
       "\n",
       "/* Estimator label */\n",
       "\n",
       "#sk-container-id-1 div.sk-label label {\n",
       "  font-family: monospace;\n",
       "  font-weight: bold;\n",
       "  display: inline-block;\n",
       "  line-height: 1.2em;\n",
       "}\n",
       "\n",
       "#sk-container-id-1 div.sk-label-container {\n",
       "  text-align: center;\n",
       "}\n",
       "\n",
       "/* Estimator-specific */\n",
       "#sk-container-id-1 div.sk-estimator {\n",
       "  font-family: monospace;\n",
       "  border: 1px dotted var(--sklearn-color-border-box);\n",
       "  border-radius: 0.25em;\n",
       "  box-sizing: border-box;\n",
       "  margin-bottom: 0.5em;\n",
       "  /* unfitted */\n",
       "  background-color: var(--sklearn-color-unfitted-level-0);\n",
       "}\n",
       "\n",
       "#sk-container-id-1 div.sk-estimator.fitted {\n",
       "  /* fitted */\n",
       "  background-color: var(--sklearn-color-fitted-level-0);\n",
       "}\n",
       "\n",
       "/* on hover */\n",
       "#sk-container-id-1 div.sk-estimator:hover {\n",
       "  /* unfitted */\n",
       "  background-color: var(--sklearn-color-unfitted-level-2);\n",
       "}\n",
       "\n",
       "#sk-container-id-1 div.sk-estimator.fitted:hover {\n",
       "  /* fitted */\n",
       "  background-color: var(--sklearn-color-fitted-level-2);\n",
       "}\n",
       "\n",
       "/* Specification for estimator info (e.g. \"i\" and \"?\") */\n",
       "\n",
       "/* Common style for \"i\" and \"?\" */\n",
       "\n",
       ".sk-estimator-doc-link,\n",
       "a:link.sk-estimator-doc-link,\n",
       "a:visited.sk-estimator-doc-link {\n",
       "  float: right;\n",
       "  font-size: smaller;\n",
       "  line-height: 1em;\n",
       "  font-family: monospace;\n",
       "  background-color: var(--sklearn-color-background);\n",
       "  border-radius: 1em;\n",
       "  height: 1em;\n",
       "  width: 1em;\n",
       "  text-decoration: none !important;\n",
       "  margin-left: 1ex;\n",
       "  /* unfitted */\n",
       "  border: var(--sklearn-color-unfitted-level-1) 1pt solid;\n",
       "  color: var(--sklearn-color-unfitted-level-1);\n",
       "}\n",
       "\n",
       ".sk-estimator-doc-link.fitted,\n",
       "a:link.sk-estimator-doc-link.fitted,\n",
       "a:visited.sk-estimator-doc-link.fitted {\n",
       "  /* fitted */\n",
       "  border: var(--sklearn-color-fitted-level-1) 1pt solid;\n",
       "  color: var(--sklearn-color-fitted-level-1);\n",
       "}\n",
       "\n",
       "/* On hover */\n",
       "div.sk-estimator:hover .sk-estimator-doc-link:hover,\n",
       ".sk-estimator-doc-link:hover,\n",
       "div.sk-label-container:hover .sk-estimator-doc-link:hover,\n",
       ".sk-estimator-doc-link:hover {\n",
       "  /* unfitted */\n",
       "  background-color: var(--sklearn-color-unfitted-level-3);\n",
       "  color: var(--sklearn-color-background);\n",
       "  text-decoration: none;\n",
       "}\n",
       "\n",
       "div.sk-estimator.fitted:hover .sk-estimator-doc-link.fitted:hover,\n",
       ".sk-estimator-doc-link.fitted:hover,\n",
       "div.sk-label-container:hover .sk-estimator-doc-link.fitted:hover,\n",
       ".sk-estimator-doc-link.fitted:hover {\n",
       "  /* fitted */\n",
       "  background-color: var(--sklearn-color-fitted-level-3);\n",
       "  color: var(--sklearn-color-background);\n",
       "  text-decoration: none;\n",
       "}\n",
       "\n",
       "/* Span, style for the box shown on hovering the info icon */\n",
       ".sk-estimator-doc-link span {\n",
       "  display: none;\n",
       "  z-index: 9999;\n",
       "  position: relative;\n",
       "  font-weight: normal;\n",
       "  right: .2ex;\n",
       "  padding: .5ex;\n",
       "  margin: .5ex;\n",
       "  width: min-content;\n",
       "  min-width: 20ex;\n",
       "  max-width: 50ex;\n",
       "  color: var(--sklearn-color-text);\n",
       "  box-shadow: 2pt 2pt 4pt #999;\n",
       "  /* unfitted */\n",
       "  background: var(--sklearn-color-unfitted-level-0);\n",
       "  border: .5pt solid var(--sklearn-color-unfitted-level-3);\n",
       "}\n",
       "\n",
       ".sk-estimator-doc-link.fitted span {\n",
       "  /* fitted */\n",
       "  background: var(--sklearn-color-fitted-level-0);\n",
       "  border: var(--sklearn-color-fitted-level-3);\n",
       "}\n",
       "\n",
       ".sk-estimator-doc-link:hover span {\n",
       "  display: block;\n",
       "}\n",
       "\n",
       "/* \"?\"-specific style due to the `<a>` HTML tag */\n",
       "\n",
       "#sk-container-id-1 a.estimator_doc_link {\n",
       "  float: right;\n",
       "  font-size: 1rem;\n",
       "  line-height: 1em;\n",
       "  font-family: monospace;\n",
       "  background-color: var(--sklearn-color-background);\n",
       "  border-radius: 1rem;\n",
       "  height: 1rem;\n",
       "  width: 1rem;\n",
       "  text-decoration: none;\n",
       "  /* unfitted */\n",
       "  color: var(--sklearn-color-unfitted-level-1);\n",
       "  border: var(--sklearn-color-unfitted-level-1) 1pt solid;\n",
       "}\n",
       "\n",
       "#sk-container-id-1 a.estimator_doc_link.fitted {\n",
       "  /* fitted */\n",
       "  border: var(--sklearn-color-fitted-level-1) 1pt solid;\n",
       "  color: var(--sklearn-color-fitted-level-1);\n",
       "}\n",
       "\n",
       "/* On hover */\n",
       "#sk-container-id-1 a.estimator_doc_link:hover {\n",
       "  /* unfitted */\n",
       "  background-color: var(--sklearn-color-unfitted-level-3);\n",
       "  color: var(--sklearn-color-background);\n",
       "  text-decoration: none;\n",
       "}\n",
       "\n",
       "#sk-container-id-1 a.estimator_doc_link.fitted:hover {\n",
       "  /* fitted */\n",
       "  background-color: var(--sklearn-color-fitted-level-3);\n",
       "}\n",
       "</style><div id=\"sk-container-id-1\" class=\"sk-top-container\"><div class=\"sk-text-repr-fallback\"><pre>LinearRegression()</pre><b>In a Jupyter environment, please rerun this cell to show the HTML representation or trust the notebook. <br />On GitHub, the HTML representation is unable to render, please try loading this page with nbviewer.org.</b></div><div class=\"sk-container\" hidden><div class=\"sk-item\"><div class=\"sk-estimator fitted sk-toggleable\"><input class=\"sk-toggleable__control sk-hidden--visually\" id=\"sk-estimator-id-1\" type=\"checkbox\" checked><label for=\"sk-estimator-id-1\" class=\"sk-toggleable__label fitted sk-toggleable__label-arrow fitted\">&nbsp;&nbsp;LinearRegression<a class=\"sk-estimator-doc-link fitted\" rel=\"noreferrer\" target=\"_blank\" href=\"https://scikit-learn.org/1.4/modules/generated/sklearn.linear_model.LinearRegression.html\">?<span>Documentation for LinearRegression</span></a><span class=\"sk-estimator-doc-link fitted\">i<span>Fitted</span></span></label><div class=\"sk-toggleable__content fitted\"><pre>LinearRegression()</pre></div> </div></div></div></div>"
      ],
      "text/plain": [
       "LinearRegression()"
      ]
     },
     "execution_count": 24,
     "metadata": {},
     "output_type": "execute_result"
    }
   ],
   "source": [
    "lr = LinearRegression(fit_intercept=True)\n",
    "lr.fit(X_train, y_train)"
   ]
  },
  {
   "cell_type": "code",
   "execution_count": 25,
   "id": "a5f556e2-3487-4b1e-988b-168b16b75500",
   "metadata": {},
   "outputs": [
    {
     "name": "stdout",
     "output_type": "stream",
     "text": [
      "0.9574908574669008\n"
     ]
    }
   ],
   "source": [
    "acc = lr.score(X_test, y_test)\n",
    "print(acc)"
   ]
  },
  {
   "cell_type": "code",
   "execution_count": 26,
   "id": "23223ced-c23b-4be9-a7c7-2a6b9e40fee9",
   "metadata": {},
   "outputs": [
    {
     "name": "stdout",
     "output_type": "stream",
     "text": [
      "Linear Model Coefficient (m): [[8892.1962233]]\n",
      "Linear Model Intercept (b): [27731.01056269]\n"
     ]
    }
   ],
   "source": [
    "print('Linear Model Coefficient (m): {}'.format(lr.coef_))\n",
    "print('Linear Model Intercept (b): {}'.format(lr.intercept_))"
   ]
  },
  {
   "cell_type": "markdown",
   "id": "cc520941-90cb-44db-a8f9-17bc7a73dd28",
   "metadata": {},
   "source": [
    "#### TASK 6: EVALUATE THE PERFORMANCE OF THE TRAINED MODEL"
   ]
  },
  {
   "cell_type": "code",
   "execution_count": 27,
   "id": "6595e76c-7f2d-4c72-af08-fbf30e8a243b",
   "metadata": {},
   "outputs": [],
   "source": [
    "y_pred = lr.predict(X_test)"
   ]
  },
  {
   "cell_type": "code",
   "execution_count": 28,
   "id": "637a1a31-b8fb-4509-b1dd-1b6942efd063",
   "metadata": {},
   "outputs": [
    {
     "data": {
      "text/plain": [
       "array([[121099.07090729],\n",
       "       [ 88197.94657715],\n",
       "       [ 56186.03890124],\n",
       "       [147775.65957718],\n",
       "       [ 67745.89356752],\n",
       "       [ 74859.6522422 ],\n",
       "       [ 56186.03890124]])"
      ]
     },
     "execution_count": 28,
     "metadata": {},
     "output_type": "execute_result"
    }
   ],
   "source": [
    "y_pred"
   ]
  },
  {
   "cell_type": "code",
   "execution_count": 29,
   "id": "56ed941c-2d48-43f8-879e-1975b201ecd7",
   "metadata": {},
   "outputs": [
    {
     "data": {
      "text/plain": [
       "array([[10.5       ],\n",
       "       [ 6.80000019],\n",
       "       [ 3.20000005],\n",
       "       [13.5       ],\n",
       "       [ 4.5       ],\n",
       "       [ 5.30000019],\n",
       "       [ 3.20000005]])"
      ]
     },
     "execution_count": 29,
     "metadata": {},
     "output_type": "execute_result"
    }
   ],
   "source": [
    "X_test"
   ]
  },
  {
   "cell_type": "code",
   "execution_count": 30,
   "id": "539209a0-5bce-44f7-8544-3d3f9476ff19",
   "metadata": {},
   "outputs": [
    {
     "data": {
      "image/png": "[encoded data removed]",
      "text/plain": [
       "<Figure size 640x480 with 1 Axes>"
      ]
     },
     "metadata": {},
     "output_type": "display_data"
    }
   ],
   "source": [
    "plt.scatter(X_train, y_train, color = 'blue')\n",
    "plt.plot(X_train, lr.predict(X_train), color='green')\n",
    "plt.xlabel('Number of Years of Experience')\n",
    "plt.ylabel('Salary')\n",
    "plt.title('Employee Salary vs. Years of Experience')\n",
    "plt.show()"
   ]
  },
  {
   "cell_type": "markdown",
   "id": "bca5cac8-d6c9-47b6-bbab-2eb4700b75ad",
   "metadata": {},
   "source": [
    "Use the trained model, obtain the salary corresponding to eployees who have years of experience = 7"
   ]
  },
  {
   "cell_type": "code",
   "execution_count": 31,
   "id": "0ac5e9b7-caa5-4e34-abde-f017a878f6bc",
   "metadata": {},
   "outputs": [
    {
     "data": {
      "text/plain": [
       "array([[89976.38412576]])"
      ]
     },
     "execution_count": 31,
     "metadata": {},
     "output_type": "execute_result"
    }
   ],
   "source": [
    "num_year_experience = [[7]]\n",
    "salary = lr.predict(num_year_experience)\n",
    "salary"
   ]
  },
  {
   "cell_type": "markdown",
   "id": "6f54669f-7c62-48ec-bbd8-064900e19284",
   "metadata": {},
   "source": [
    "#### TASK 7: TRAIN A LINEAR LEARNER MODEL USING SAGEMAKER"
   ]
  },
  {
   "cell_type": "markdown",
   "id": "06737dfe-b6e1-4330-959f-853e6037946d",
   "metadata": {},
   "source": [
    "Create sagemaker session"
   ]
  },
  {
   "cell_type": "code",
   "execution_count": 32,
   "id": "6e13a216-f000-43dc-a2dd-fdb208fc3016",
   "metadata": {},
   "outputs": [
    {
     "name": "stdout",
     "output_type": "stream",
     "text": [
      "sagemaker-us-east-1-381491844848\n",
      "linear-learner\n",
      "arn:aws:iam::381491844848:role/service-role/AmazonSageMaker-ExecutionRole-20240905T111695\n"
     ]
    }
   ],
   "source": [
    "# sagemaker_session = sagemaker.Session()\n",
    "\n",
    "# #Create the S3 bucket and its prefix to use for sagemaker session\n",
    "# bucket = 'sagemaker-ml-100'\n",
    "# prefix = 'linear-learner' #prefix is the subfolder within the bucket\n",
    "\n",
    "# #Execute the role for the notebook instance\n",
    "# role = sagemaker.get_execution_role()\n",
    "# print(role)\n",
    "\n",
    "#create a Sagemaker session\n",
    "sagemaker_session = sagemaker.Session()\n",
    "bucket = Session().default_bucket()\n",
    "prefix = 'linear-learner'\n",
    "role = sagemaker.get_execution_role()\n",
    "print(bucket)\n",
    "print(prefix)\n",
    "print(role)"
   ]
  },
  {
   "cell_type": "code",
   "execution_count": 33,
   "id": "55be1ced-03fc-49d9-8428-07fff28036b9",
   "metadata": {},
   "outputs": [
    {
     "data": {
      "text/plain": [
       "((28, 1), dtype('float64'))"
      ]
     },
     "execution_count": 33,
     "metadata": {},
     "output_type": "execute_result"
    }
   ],
   "source": [
    "X_train.shape, X_train.dtype"
   ]
  },
  {
   "cell_type": "code",
   "execution_count": 34,
   "id": "45abca11-b559-4c33-bb26-f4acbfb92a40",
   "metadata": {},
   "outputs": [
    {
     "data": {
      "text/plain": [
       "((28, 1), dtype('float64'))"
      ]
     },
     "execution_count": 34,
     "metadata": {},
     "output_type": "execute_result"
    }
   ],
   "source": [
    "y_train.shape, y_train.dtype"
   ]
  },
  {
   "cell_type": "code",
   "execution_count": 35,
   "id": "7ba10d7c-b21b-487d-813f-4d5aff805f0b",
   "metadata": {},
   "outputs": [],
   "source": [
    "y_train = y_train[:,0]"
   ]
  },
  {
   "cell_type": "code",
   "execution_count": 36,
   "id": "af40bfe5-8661-40c7-a4ac-9ea2cf743035",
   "metadata": {},
   "outputs": [
    {
     "data": {
      "text/plain": [
       "((28,), dtype('float64'))"
      ]
     },
     "execution_count": 36,
     "metadata": {},
     "output_type": "execute_result"
    }
   ],
   "source": [
    "y_train.shape, y_train.dtype"
   ]
  },
  {
   "cell_type": "code",
   "execution_count": 37,
   "id": "6a3b2c03-cacd-4ef9-bcd2-58f7d1fb5d9e",
   "metadata": {},
   "outputs": [],
   "source": [
    "#Convert X_train, y_train float64 to float32\n",
    "X_train = X_train.astype('float32')\n",
    "y_train = y_train.astype('float32')"
   ]
  },
  {
   "cell_type": "code",
   "execution_count": 38,
   "id": "110705c3-dd96-43e8-9c0d-385811275be7",
   "metadata": {},
   "outputs": [
    {
     "data": {
      "text/plain": [
       "((28, 1), (28,))"
      ]
     },
     "execution_count": 38,
     "metadata": {},
     "output_type": "execute_result"
    }
   ],
   "source": [
    "X_train.shape, y_train.shape"
   ]
  },
  {
   "cell_type": "code",
   "execution_count": 39,
   "id": "ce13a254-53aa-4099-8999-cb5d46de676d",
   "metadata": {},
   "outputs": [
    {
     "data": {
      "text/plain": [
       "(dtype('float32'), dtype('float32'))"
      ]
     },
     "execution_count": 39,
     "metadata": {},
     "output_type": "execute_result"
    }
   ],
   "source": [
    "X_train.dtype, y_train.dtype"
   ]
  },
  {
   "cell_type": "markdown",
   "id": "9f34daa1-9bb9-4487-99c8-c4f93ad176b7",
   "metadata": {},
   "source": [
    "Convert the training data into io format"
   ]
  },
  {
   "cell_type": "code",
   "execution_count": 40,
   "id": "f2b44f24-ce04-47af-948d-7ec101b847d4",
   "metadata": {},
   "outputs": [
    {
     "data": {
      "text/plain": [
       "0"
      ]
     },
     "execution_count": 40,
     "metadata": {},
     "output_type": "execute_result"
    }
   ],
   "source": [
    "# Code below converts the data in numpy array format to RecordIO format\n",
    "# This is the format required by Sagemaker Linear Learner \n",
    "\n",
    "buffer = io.BytesIO() #create an in-memory byte array (buf is a buffer I will be writing to)\n",
    "smac.write_numpy_to_dense_tensor(buffer, X_train, y_train)\n",
    "buffer.seek(0)"
   ]
  },
  {
   "cell_type": "markdown",
   "id": "86609684-2fd3-418f-8f23-7bbe1b46cbcc",
   "metadata": {},
   "source": [
    "Uploads the data in record-io format to S3 bucket to be accessed later for training"
   ]
  },
  {
   "cell_type": "code",
   "execution_count": 41,
   "id": "f97cb8e7-a11e-4ae9-a9fc-e029a4f04f03",
   "metadata": {},
   "outputs": [
    {
     "name": "stdout",
     "output_type": "stream",
     "text": [
      "Uploaded training data location: s3://sagemaker-us-east-1-381491844848/linear-learner/train/linear-train-data\n"
     ]
    }
   ],
   "source": [
    "# Key refers to the name of the file\n",
    "key = 'linear-train-data'\n",
    "\n",
    "#Upload the data in record-io format\n",
    "boto3.resource('s3').Bucket(bucket).Object(os.path.join(prefix, 'train', key)).upload_fileobj(buffer)\n",
    "\n",
    "#Print out the training data location in s3\n",
    "s3_train_data = 's3://{}/{}/train/{}'.format(bucket, prefix, key)\n",
    "print('Uploaded training data location: {}'.format(s3_train_data))"
   ]
  },
  {
   "cell_type": "code",
   "execution_count": 42,
   "id": "98c1c10e-52eb-49da-af78-c1b44ab3af30",
   "metadata": {},
   "outputs": [
    {
     "data": {
      "text/plain": [
       "(7, 1)"
      ]
     },
     "execution_count": 42,
     "metadata": {},
     "output_type": "execute_result"
    }
   ],
   "source": [
    "X_test.shape"
   ]
  },
  {
   "cell_type": "code",
   "execution_count": 43,
   "id": "7c58f092-81bd-42ef-a5e1-c90f4b0e6896",
   "metadata": {},
   "outputs": [
    {
     "data": {
      "text/plain": [
       "(7, 1)"
      ]
     },
     "execution_count": 43,
     "metadata": {},
     "output_type": "execute_result"
    }
   ],
   "source": [
    "y_test.shape"
   ]
  },
  {
   "cell_type": "code",
   "execution_count": 44,
   "id": "9f41de74-a16d-4014-a59f-34e40a01f54b",
   "metadata": {},
   "outputs": [],
   "source": [
    "#Convert the target label to vector\n",
    "y_test = y_test[:, 0]"
   ]
  },
  {
   "cell_type": "code",
   "execution_count": 45,
   "id": "236b6e46-e81f-432a-8ce6-2b50dd190063",
   "metadata": {},
   "outputs": [
    {
     "data": {
      "text/plain": [
       "array([121872.,  91738.,  64445., 139465.,  61111.,  83088.,  54445.])"
      ]
     },
     "execution_count": 45,
     "metadata": {},
     "output_type": "execute_result"
    }
   ],
   "source": [
    "y_test"
   ]
  },
  {
   "cell_type": "code",
   "execution_count": 46,
   "id": "8da8538e-eefb-4b1f-915c-f588797860b1",
   "metadata": {},
   "outputs": [],
   "source": [
    "#Convert the X_test, y_test float64 to float32\n",
    "X_test = X_test.astype('float32')\n",
    "y_test = y_test.astype('float32')"
   ]
  },
  {
   "cell_type": "code",
   "execution_count": 47,
   "id": "2f9b9a73-72a1-49e3-98b5-897ab1e4397a",
   "metadata": {},
   "outputs": [
    {
     "data": {
      "text/plain": [
       "(dtype('float32'), dtype('float32'))"
      ]
     },
     "execution_count": 47,
     "metadata": {},
     "output_type": "execute_result"
    }
   ],
   "source": [
    "X_test.dtype, y_test.dtype"
   ]
  },
  {
   "cell_type": "markdown",
   "id": "f0052a33-5942-4b4b-b489-67311facf363",
   "metadata": {},
   "source": [
    "Upload RecordIO data to S3 for the test data"
   ]
  },
  {
   "cell_type": "code",
   "execution_count": 48,
   "id": "f7a8ade3-cfcf-48c5-89db-d6b62158c3f6",
   "metadata": {},
   "outputs": [
    {
     "data": {
      "text/plain": [
       "0"
      ]
     },
     "execution_count": 48,
     "metadata": {},
     "output_type": "execute_result"
    }
   ],
   "source": [
    "buffer = io.BytesIO() # create an in-memory byte array (buf is a buffer I will be writing to)\n",
    "smac.write_numpy_to_dense_tensor(buffer, X_test, y_test)\n",
    "\n",
    "buffer.seek(0)"
   ]
  },
  {
   "cell_type": "code",
   "execution_count": 49,
   "id": "0058ff56-c3dc-461b-84bf-478d73020d68",
   "metadata": {},
   "outputs": [
    {
     "name": "stdout",
     "output_type": "stream",
     "text": [
      "Uploaded training data location: s3://sagemaker-us-east-1-381491844848/linear-learner\n"
     ]
    }
   ],
   "source": [
    "# Key refers to the name of the file\n",
    "key = 'linear-test-data'\n",
    "\n",
    "#Upload the data in record-io format to S3 bucket\n",
    "boto3.resource('s3').Bucket(bucket).Object(os.path.join(prefix, 'test', key)).upload_fileobj(buffer)\n",
    "\n",
    "# Print out the testing data location in s3\n",
    "s3_test_data = 's3://{}/{}'.format(bucket, prefix, key)\n",
    "print('Uploaded training data location: {}'.format(s3_test_data))"
   ]
  },
  {
   "cell_type": "code",
   "execution_count": 50,
   "id": "43a0d03c-7d28-492a-9ff1-7da56c108354",
   "metadata": {},
   "outputs": [
    {
     "name": "stdout",
     "output_type": "stream",
     "text": [
      "Training artifacts will be uploaded to: s3://sagemaker-us-east-1-381491844848/linear-learner/output\n"
     ]
    }
   ],
   "source": [
    "# create an output placeholder in S3 bucket to store the linear-regression output\n",
    "\n",
    "output_location = 's3://{}/{}/output'.format(bucket, prefix)\n",
    "print('Training artifacts will be uploaded to: {}'.format(output_location))"
   ]
  },
  {
   "cell_type": "markdown",
   "id": "4ea617c4-26f6-4e67-9171-6e73f8655f34",
   "metadata": {},
   "source": [
    "Get the training container of sagemaker built-in algorithms\n",
    "\n",
    "* Specify the name of the algorithm, that we want to use\n",
    "* Note: All regression models are named estimators"
   ]
  },
  {
   "cell_type": "code",
   "execution_count": 51,
   "id": "d3abb9c8-cd8f-42c2-aa93-abf18635cd70",
   "metadata": {},
   "outputs": [
    {
     "name": "stderr",
     "output_type": "stream",
     "text": [
      "The method get_image_uri has been renamed in sagemaker>=2.\n",
      "See: https://sagemaker.readthedocs.io/en/stable/v2.html for details.\n"
     ]
    }
   ],
   "source": [
    "#Obtain a reference to the linear-learner container image\n",
    "container = get_image_uri(boto3.Session().region_name, 'linear-learner')"
   ]
  },
  {
   "cell_type": "code",
   "execution_count": 52,
   "id": "877dcd3c-12c2-4623-af3c-dbcef3cc0ce7",
   "metadata": {},
   "outputs": [
    {
     "name": "stderr",
     "output_type": "stream",
     "text": [
      "train_max_run has been renamed in sagemaker>=2.\n",
      "See: https://sagemaker.readthedocs.io/en/stable/v2.html for details.\n",
      "train_use_spot_instances has been renamed in sagemaker>=2.\n",
      "See: https://sagemaker.readthedocs.io/en/stable/v2.html for details.\n",
      "train_max_wait has been renamed in sagemaker>=2.\n",
      "See: https://sagemaker.readthedocs.io/en/stable/v2.html for details.\n",
      "INFO:sagemaker:Creating training-job with name: linear-learner-2024-09-05-13-42-54-911\n"
     ]
    },
    {
     "name": "stdout",
     "output_type": "stream",
     "text": [
      "2024-09-05 13:42:56 Starting - Starting the training job...\n",
      "2024-09-05 13:43:10 Starting - Preparing the instances for training...\n",
      "2024-09-05 13:43:36 Downloading - Downloading input data...\n",
      "2024-09-05 13:44:12 Downloading - Downloading the training image.........\n",
      "2024-09-05 13:45:53 Training - Training image download completed. Training in progress.\n",
      "2024-09-05 13:45:53 Uploading - Uploading generated training model\u001b[34mDocker entrypoint called with argument(s): train\u001b[0m\n",
      "\u001b[34mRunning default environment configuration script\u001b[0m\n",
      "\u001b[34m[09/05/2024 13:45:46 INFO 140359332706112] Reading default configuration from /opt/amazon/lib/python3.8/site-packages/algorithm/resources/default-input.json: {'mini_batch_size': '1000', 'epochs': '15', 'feature_dim': 'auto', 'use_bias': 'true', 'binary_classifier_model_selection_criteria': 'accuracy', 'f_beta': '1.0', 'target_recall': '0.8', 'target_precision': '0.8', 'num_models': 'auto', 'num_calibration_samples': '10000000', 'init_method': 'uniform', 'init_scale': '0.07', 'init_sigma': '0.01', 'init_bias': '0.0', 'optimizer': 'auto', 'loss': 'auto', 'margin': '1.0', 'quantile': '0.5', 'loss_insensitivity': '0.01', 'huber_delta': '1.0', 'num_classes': '1', 'accuracy_top_k': '3', 'wd': 'auto', 'l1': 'auto', 'momentum': 'auto', 'learning_rate': 'auto', 'beta_1': 'auto', 'beta_2': 'auto', 'bias_lr_mult': 'auto', 'bias_wd_mult': 'auto', 'use_lr_scheduler': 'true', 'lr_scheduler_step': 'auto', 'lr_scheduler_factor': 'auto', 'lr_scheduler_minimum_lr': 'auto', 'positive_example_weight_mult': '1.0', 'balance_multiclass_weights': 'false', 'normalize_data': 'true', 'normalize_label': 'auto', 'unbias_data': 'auto', 'unbias_label': 'auto', 'num_point_for_scaler': '10000', '_kvstore': 'auto', '_num_gpus': 'auto', '_num_kv_servers': 'auto', '_log_level': 'info', '_tuning_objective_metric': '', 'early_stopping_patience': '3', 'early_stopping_tolerance': '0.001', '_enable_profiler': 'false'}\u001b[0m\n",
      "\u001b[34m[09/05/2024 13:45:46 INFO 140359332706112] Merging with provided configuration from /opt/ml/input/config/hyperparameters.json: {'epochs': '5', 'feature_dim': '1', 'loss': 'absolute_loss', 'mini_batch_size': '5', 'num_models': '32', 'predictor_type': 'regressor'}\u001b[0m\n",
      "\u001b[34m[09/05/2024 13:45:46 INFO 140359332706112] Final configuration: {'mini_batch_size': '5', 'epochs': '5', 'feature_dim': '1', 'use_bias': 'true', 'binary_classifier_model_selection_criteria': 'accuracy', 'f_beta': '1.0', 'target_recall': '0.8', 'target_precision': '0.8', 'num_models': '32', 'num_calibration_samples': '10000000', 'init_method': 'uniform', 'init_scale': '0.07', 'init_sigma': '0.01', 'init_bias': '0.0', 'optimizer': 'auto', 'loss': 'absolute_loss', 'margin': '1.0', 'quantile': '0.5', 'loss_insensitivity': '0.01', 'huber_delta': '1.0', 'num_classes': '1', 'accuracy_top_k': '3', 'wd': 'auto', 'l1': 'auto', 'momentum': 'auto', 'learning_rate': 'auto', 'beta_1': 'auto', 'beta_2': 'auto', 'bias_lr_mult': 'auto', 'bias_wd_mult': 'auto', 'use_lr_scheduler': 'true', 'lr_scheduler_step': 'auto', 'lr_scheduler_factor': 'auto', 'lr_scheduler_minimum_lr': 'auto', 'positive_example_weight_mult': '1.0', 'balance_multiclass_weights': 'false', 'normalize_data': 'true', 'normalize_label': 'auto', 'unbias_data': 'auto', 'unbias_label': 'auto', 'num_point_for_scaler': '10000', '_kvstore': 'auto', '_num_gpus': 'auto', '_num_kv_servers': 'auto', '_log_level': 'info', '_tuning_objective_metric': '', 'early_stopping_patience': '3', 'early_stopping_tolerance': '0.001', '_enable_profiler': 'false', 'predictor_type': 'regressor'}\u001b[0m\n",
      "\u001b[34m/opt/amazon/lib/python3.8/site-packages/mxnet/model.py:97: SyntaxWarning: \"is\" with a literal. Did you mean \"==\"?\n",
      "  if num_device is 1 and 'dist' not in kvstore:\u001b[0m\n",
      "\u001b[34m/opt/amazon/lib/python3.8/site-packages/scipy/optimize/_shgo.py:495: SyntaxWarning: \"is\" with a literal. Did you mean \"==\"?\n",
      "  if cons['type'] is 'ineq':\u001b[0m\n",
      "\u001b[34m/opt/amazon/lib/python3.8/site-packages/scipy/optimize/_shgo.py:743: SyntaxWarning: \"is not\" with a literal. Did you mean \"!=\"?\n",
      "  if len(self.X_min) is not 0:\u001b[0m\n",
      "\u001b[34m[09/05/2024 13:45:48 WARNING 140359332706112] Loggers have already been setup.\u001b[0m\n",
      "\u001b[34m[09/05/2024 13:45:48 INFO 140359332706112] Final configuration: {'mini_batch_size': '5', 'epochs': '5', 'feature_dim': '1', 'use_bias': 'true', 'binary_classifier_model_selection_criteria': 'accuracy', 'f_beta': '1.0', 'target_recall': '0.8', 'target_precision': '0.8', 'num_models': '32', 'num_calibration_samples': '10000000', 'init_method': 'uniform', 'init_scale': '0.07', 'init_sigma': '0.01', 'init_bias': '0.0', 'optimizer': 'auto', 'loss': 'absolute_loss', 'margin': '1.0', 'quantile': '0.5', 'loss_insensitivity': '0.01', 'huber_delta': '1.0', 'num_classes': '1', 'accuracy_top_k': '3', 'wd': 'auto', 'l1': 'auto', 'momentum': 'auto', 'learning_rate': 'auto', 'beta_1': 'auto', 'beta_2': 'auto', 'bias_lr_mult': 'auto', 'bias_wd_mult': 'auto', 'use_lr_scheduler': 'true', 'lr_scheduler_step': 'auto', 'lr_scheduler_factor': 'auto', 'lr_scheduler_minimum_lr': 'auto', 'positive_example_weight_mult': '1.0', 'balance_multiclass_weights': 'false', 'normalize_data': 'true', 'normalize_label': 'auto', 'unbias_data': 'auto', 'unbias_label': 'auto', 'num_point_for_scaler': '10000', '_kvstore': 'auto', '_num_gpus': 'auto', '_num_kv_servers': 'auto', '_log_level': 'info', '_tuning_objective_metric': '', 'early_stopping_patience': '3', 'early_stopping_tolerance': '0.001', '_enable_profiler': 'false', 'predictor_type': 'regressor'}\u001b[0m\n",
      "\u001b[34m[09/05/2024 13:45:48 WARNING 140359332706112] Loggers have already been setup.\u001b[0m\n",
      "\u001b[34mProcess 7 is a worker.\u001b[0m\n",
      "\u001b[34m[09/05/2024 13:45:48 INFO 140359332706112] Using default worker.\u001b[0m\n",
      "\u001b[34m[09/05/2024 13:45:48 INFO 140359332706112] Checkpoint loading and saving are disabled.\u001b[0m\n",
      "\u001b[34m[2024-09-05 13:45:48.727] [tensorio] [info] epoch_stats={\"data_pipeline\": \"/opt/ml/input/data/train\", \"epoch\": 0, \"duration\": 10, \"num_examples\": 1, \"num_bytes\": 240}\u001b[0m\n",
      "\u001b[34m[09/05/2024 13:45:48 INFO 140359332706112] Create Store: local\u001b[0m\n",
      "\u001b[34m[2024-09-05 13:45:48.752] [tensorio] [info] epoch_stats={\"data_pipeline\": \"/opt/ml/input/data/train\", \"epoch\": 1, \"duration\": 23, \"num_examples\": 6, \"num_bytes\": 1344}\u001b[0m\n",
      "\u001b[34m[09/05/2024 13:45:48 INFO 140359332706112] Scaler algorithm parameters\n",
      " <algorithm.scaler.ScalerAlgorithmStable object at 0x7fa76376f490>\u001b[0m\n",
      "\u001b[34m[09/05/2024 13:45:48 INFO 140359332706112] Scaling model computed with parameters:\n",
      " {'stdev_label': \u001b[0m\n",
      "\u001b[34m[32018.234]\u001b[0m\n",
      "\u001b[34m<NDArray 1 @cpu(0)>, 'stdev_weight': \u001b[0m\n",
      "\u001b[34m[3.559559]\u001b[0m\n",
      "\u001b[34m<NDArray 1 @cpu(0)>, 'mean_label': \u001b[0m\n",
      "\u001b[34m[86384.125]\u001b[0m\n",
      "\u001b[34m<NDArray 1 @cpu(0)>, 'mean_weight': \u001b[0m\n",
      "\u001b[34m[6.544]\u001b[0m\n",
      "\u001b[34m<NDArray 1 @cpu(0)>}\u001b[0m\n",
      "\u001b[34m/opt/amazon/python3.8/lib/python3.8/subprocess.py:848: RuntimeWarning: line buffering (buffering=1) isn't supported in binary mode, the default buffer size will be used\n",
      "  self.stdout = io.open(c2pread, 'rb', bufsize)\u001b[0m\n",
      "\u001b[34m[09/05/2024 13:45:48 INFO 140359332706112] nvidia-smi: took 0.031 seconds to run.\u001b[0m\n",
      "\u001b[34m[09/05/2024 13:45:48 INFO 140359332706112] nvidia-smi identified 0 GPUs.\u001b[0m\n",
      "\u001b[34m[09/05/2024 13:45:48 INFO 140359332706112] Number of GPUs being used: 0\u001b[0m\n",
      "\u001b[34m#metrics {\"StartTime\": 1725543948.8347635, \"EndTime\": 1725543948.8347983, \"Dimensions\": {\"Algorithm\": \"Linear Learner\", \"Host\": \"algo-1\", \"Operation\": \"training\", \"Meta\": \"init_train_data_iter\"}, \"Metrics\": {\"Total Records Seen\": {\"sum\": 33.0, \"count\": 1, \"min\": 33, \"max\": 33}, \"Total Batches Seen\": {\"sum\": 7.0, \"count\": 1, \"min\": 7, \"max\": 7}, \"Max Records Seen Between Resets\": {\"sum\": 28.0, \"count\": 1, \"min\": 28, \"max\": 28}, \"Max Batches Seen Between Resets\": {\"sum\": 6.0, \"count\": 1, \"min\": 6, \"max\": 6}, \"Reset Count\": {\"sum\": 2.0, \"count\": 1, \"min\": 2, \"max\": 2}, \"Number of Records Since Last Reset\": {\"sum\": 0.0, \"count\": 1, \"min\": 0, \"max\": 0}, \"Number of Batches Since Last Reset\": {\"sum\": 0.0, \"count\": 1, \"min\": 0, \"max\": 0}}}\u001b[0m\n",
      "\u001b[34m[2024-09-05 13:45:48.893] [tensorio] [info] epoch_stats={\"data_pipeline\": \"/opt/ml/input/data/train\", \"epoch\": 4, \"duration\": 58, \"num_examples\": 6, \"num_bytes\": 1344}\u001b[0m\n",
      "\u001b[34m#metrics {\"StartTime\": 1725543948.8936615, \"EndTime\": 1725543948.8937306, \"Dimensions\": {\"Algorithm\": \"Linear Learner\", \"Host\": \"algo-1\", \"Operation\": \"training\", \"epoch\": 0, \"model\": 0}, \"Metrics\": {\"train_absolute_loss_objective\": {\"sum\": 0.9200086402893066, \"count\": 1, \"min\": 0.9200086402893066, \"max\": 0.9200086402893066}}}\u001b[0m\n",
      "\u001b[34m#metrics {\"StartTime\": 1725543948.8938057, \"EndTime\": 1725543948.8938189, \"Dimensions\": {\"Algorithm\": \"Linear Learner\", \"Host\": \"algo-1\", \"Operation\": \"training\", \"epoch\": 0, \"model\": 1}, \"Metrics\": {\"train_absolute_loss_objective\": {\"sum\": 0.9402525997161866, \"count\": 1, \"min\": 0.9402525997161866, \"max\": 0.9402525997161866}}}\u001b[0m\n",
      "\u001b[34m#metrics {\"StartTime\": 1725543948.8938537, \"EndTime\": 1725543948.8938625, \"Dimensions\": {\"Algorithm\": \"Linear Learner\", \"Host\": \"algo-1\", \"Operation\": \"training\", \"epoch\": 0, \"model\": 2}, \"Metrics\": {\"train_absolute_loss_objective\": {\"sum\": 0.9224609470367432, \"count\": 1, \"min\": 0.9224609470367432, \"max\": 0.9224609470367432}}}\u001b[0m\n",
      "\u001b[34m#metrics {\"StartTime\": 1725543948.8938904, \"EndTime\": 1725543948.8938985, \"Dimensions\": {\"Algorithm\": \"Linear Learner\", \"Host\": \"algo-1\", \"Operation\": \"training\", \"epoch\": 0, \"model\": 3}, \"Metrics\": {\"train_absolute_loss_objective\": {\"sum\": 0.939218053817749, \"count\": 1, \"min\": 0.939218053817749, \"max\": 0.939218053817749}}}\u001b[0m\n",
      "\u001b[34m#metrics {\"StartTime\": 1725543948.893923, \"EndTime\": 1725543948.8939304, \"Dimensions\": {\"Algorithm\": \"Linear Learner\", \"Host\": \"algo-1\", \"Operation\": \"training\", \"epoch\": 0, \"model\": 4}, \"Metrics\": {\"train_absolute_loss_objective\": {\"sum\": 0.7582690811157227, \"count\": 1, \"min\": 0.7582690811157227, \"max\": 0.7582690811157227}}}\u001b[0m\n",
      "\u001b[34m#metrics {\"StartTime\": 1725543948.8939593, \"EndTime\": 1725543948.8939667, \"Dimensions\": {\"Algorithm\": \"Linear Learner\", \"Host\": \"algo-1\", \"Operation\": \"training\", \"epoch\": 0, \"model\": 5}, \"Metrics\": {\"train_absolute_loss_objective\": {\"sum\": 0.7680822658538818, \"count\": 1, \"min\": 0.7680822658538818, \"max\": 0.7680822658538818}}}\u001b[0m\n",
      "\u001b[34m#metrics {\"StartTime\": 1725543948.8939931, \"EndTime\": 1725543948.8940012, \"Dimensions\": {\"Algorithm\": \"Linear Learner\", \"Host\": \"algo-1\", \"Operation\": \"training\", \"epoch\": 0, \"model\": 6}, \"Metrics\": {\"train_absolute_loss_objective\": {\"sum\": 0.851948127746582, \"count\": 1, \"min\": 0.851948127746582, \"max\": 0.851948127746582}}}\u001b[0m\n",
      "\u001b[34m#metrics {\"StartTime\": 1725543948.8940308, \"EndTime\": 1725543948.8940394, \"Dimensions\": {\"Algorithm\": \"Linear Learner\", \"Host\": \"algo-1\", \"Operation\": \"training\", \"epoch\": 0, \"model\": 7}, \"Metrics\": {\"train_absolute_loss_objective\": {\"sum\": 0.8227490997314453, \"count\": 1, \"min\": 0.8227490997314453, \"max\": 0.8227490997314453}}}\u001b[0m\n",
      "\u001b[34m#metrics {\"StartTime\": 1725543948.8940697, \"EndTime\": 1725543948.8940778, \"Dimensions\": {\"Algorithm\": \"Linear Learner\", \"Host\": \"algo-1\", \"Operation\": \"training\", \"epoch\": 0, \"model\": 8}, \"Metrics\": {\"train_absolute_loss_objective\": {\"sum\": 0.9768487071990967, \"count\": 1, \"min\": 0.9768487071990967, \"max\": 0.9768487071990967}}}\u001b[0m\n",
      "\u001b[34m#metrics {\"StartTime\": 1725543948.894113, \"EndTime\": 1725543948.894122, \"Dimensions\": {\"Algorithm\": \"Linear Learner\", \"Host\": \"algo-1\", \"Operation\": \"training\", \"epoch\": 0, \"model\": 9}, \"Metrics\": {\"train_absolute_loss_objective\": {\"sum\": 0.9077762031555175, \"count\": 1, \"min\": 0.9077762031555175, \"max\": 0.9077762031555175}}}\u001b[0m\n",
      "\u001b[34m#metrics {\"StartTime\": 1725543948.8941524, \"EndTime\": 1725543948.894162, \"Dimensions\": {\"Algorithm\": \"Linear Learner\", \"Host\": \"algo-1\", \"Operation\": \"training\", \"epoch\": 0, \"model\": 10}, \"Metrics\": {\"train_absolute_loss_objective\": {\"sum\": 0.9145877933502198, \"count\": 1, \"min\": 0.9145877933502198, \"max\": 0.9145877933502198}}}\u001b[0m\n",
      "\u001b[34m#metrics {\"StartTime\": 1725543948.8941915, \"EndTime\": 1725543948.8942, \"Dimensions\": {\"Algorithm\": \"Linear Learner\", \"Host\": \"algo-1\", \"Operation\": \"training\", \"epoch\": 0, \"model\": 11}, \"Metrics\": {\"train_absolute_loss_objective\": {\"sum\": 0.8995253753662109, \"count\": 1, \"min\": 0.8995253753662109, \"max\": 0.8995253753662109}}}\u001b[0m\n",
      "\u001b[34m#metrics {\"StartTime\": 1725543948.8942304, \"EndTime\": 1725543948.8942387, \"Dimensions\": {\"Algorithm\": \"Linear Learner\", \"Host\": \"algo-1\", \"Operation\": \"training\", \"epoch\": 0, \"model\": 12}, \"Metrics\": {\"train_absolute_loss_objective\": {\"sum\": 0.7672073364257812, \"count\": 1, \"min\": 0.7672073364257812, \"max\": 0.7672073364257812}}}\u001b[0m\n",
      "\u001b[34m#metrics {\"StartTime\": 1725543948.8942783, \"EndTime\": 1725543948.8942883, \"Dimensions\": {\"Algorithm\": \"Linear Learner\", \"Host\": \"algo-1\", \"Operation\": \"training\", \"epoch\": 0, \"model\": 13}, \"Metrics\": {\"train_absolute_loss_objective\": {\"sum\": 0.7936790752410888, \"count\": 1, \"min\": 0.7936790752410888, \"max\": 0.7936790752410888}}}\u001b[0m\n",
      "\u001b[34m#metrics {\"StartTime\": 1725543948.8943172, \"EndTime\": 1725543948.8943255, \"Dimensions\": {\"Algorithm\": \"Linear Learner\", \"Host\": \"algo-1\", \"Operation\": \"training\", \"epoch\": 0, \"model\": 14}, \"Metrics\": {\"train_absolute_loss_objective\": {\"sum\": 0.7657078266143799, \"count\": 1, \"min\": 0.7657078266143799, \"max\": 0.7657078266143799}}}\u001b[0m\n",
      "\u001b[34m#metrics {\"StartTime\": 1725543948.8943498, \"EndTime\": 1725543948.8943574, \"Dimensions\": {\"Algorithm\": \"Linear Learner\", \"Host\": \"algo-1\", \"Operation\": \"training\", \"epoch\": 0, \"model\": 15}, \"Metrics\": {\"train_absolute_loss_objective\": {\"sum\": 0.8000234603881836, \"count\": 1, \"min\": 0.8000234603881836, \"max\": 0.8000234603881836}}}\u001b[0m\n",
      "\u001b[34m#metrics {\"StartTime\": 1725543948.8943865, \"EndTime\": 1725543948.8943946, \"Dimensions\": {\"Algorithm\": \"Linear Learner\", \"Host\": \"algo-1\", \"Operation\": \"training\", \"epoch\": 0, \"model\": 16}, \"Metrics\": {\"train_absolute_loss_objective\": {\"sum\": 0.8832682991027831, \"count\": 1, \"min\": 0.8832682991027831, \"max\": 0.8832682991027831}}}\u001b[0m\n",
      "\u001b[34m#metrics {\"StartTime\": 1725543948.8944223, \"EndTime\": 1725543948.8944309, \"Dimensions\": {\"Algorithm\": \"Linear Learner\", \"Host\": \"algo-1\", \"Operation\": \"training\", \"epoch\": 0, \"model\": 17}, \"Metrics\": {\"train_absolute_loss_objective\": {\"sum\": 0.9354186820983886, \"count\": 1, \"min\": 0.9354186820983886, \"max\": 0.9354186820983886}}}\u001b[0m\n",
      "\u001b[34m#metrics {\"StartTime\": 1725543948.894463, \"EndTime\": 1725543948.894472, \"Dimensions\": {\"Algorithm\": \"Linear Learner\", \"Host\": \"algo-1\", \"Operation\": \"training\", \"epoch\": 0, \"model\": 18}, \"Metrics\": {\"train_absolute_loss_objective\": {\"sum\": 0.9108072185516357, \"count\": 1, \"min\": 0.9108072185516357, \"max\": 0.9108072185516357}}}\u001b[0m\n",
      "\u001b[34m#metrics {\"StartTime\": 1725543948.894499, \"EndTime\": 1725543948.8945072, \"Dimensions\": {\"Algorithm\": \"Linear Learner\", \"Host\": \"algo-1\", \"Operation\": \"training\", \"epoch\": 0, \"model\": 19}, \"Metrics\": {\"train_absolute_loss_objective\": {\"sum\": 0.9080580615997315, \"count\": 1, \"min\": 0.9080580615997315, \"max\": 0.9080580615997315}}}\u001b[0m\n",
      "\u001b[34m#metrics {\"StartTime\": 1725543948.8945396, \"EndTime\": 1725543948.8945477, \"Dimensions\": {\"Algorithm\": \"Linear Learner\", \"Host\": \"algo-1\", \"Operation\": \"training\", \"epoch\": 0, \"model\": 20}, \"Metrics\": {\"train_absolute_loss_objective\": {\"sum\": 0.8142607879638671, \"count\": 1, \"min\": 0.8142607879638671, \"max\": 0.8142607879638671}}}\u001b[0m\n",
      "\u001b[34m#metrics {\"StartTime\": 1725543948.8945735, \"EndTime\": 1725543948.8945813, \"Dimensions\": {\"Algorithm\": \"Linear Learner\", \"Host\": \"algo-1\", \"Operation\": \"training\", \"epoch\": 0, \"model\": 21}, \"Metrics\": {\"train_absolute_loss_objective\": {\"sum\": 0.8293675136566162, \"count\": 1, \"min\": 0.8293675136566162, \"max\": 0.8293675136566162}}}\u001b[0m\n",
      "\u001b[34m#metrics {\"StartTime\": 1725543948.8946137, \"EndTime\": 1725543948.894623, \"Dimensions\": {\"Algorithm\": \"Linear Learner\", \"Host\": \"algo-1\", \"Operation\": \"training\", \"epoch\": 0, \"model\": 22}, \"Metrics\": {\"train_absolute_loss_objective\": {\"sum\": 0.7654100131988525, \"count\": 1, \"min\": 0.7654100131988525, \"max\": 0.7654100131988525}}}\u001b[0m\n",
      "\u001b[34m#metrics {\"StartTime\": 1725543948.8946543, \"EndTime\": 1725543948.894663, \"Dimensions\": {\"Algorithm\": \"Linear Learner\", \"Host\": \"algo-1\", \"Operation\": \"training\", \"epoch\": 0, \"model\": 23}, \"Metrics\": {\"train_absolute_loss_objective\": {\"sum\": 0.8553826522827148, \"count\": 1, \"min\": 0.8553826522827148, \"max\": 0.8553826522827148}}}\u001b[0m\n",
      "\u001b[34m#metrics {\"StartTime\": 1725543948.894699, \"EndTime\": 1725543948.894708, \"Dimensions\": {\"Algorithm\": \"Linear Learner\", \"Host\": \"algo-1\", \"Operation\": \"training\", \"epoch\": 0, \"model\": 24}, \"Metrics\": {\"train_absolute_loss_objective\": {\"sum\": 0.8852410793304444, \"count\": 1, \"min\": 0.8852410793304444, \"max\": 0.8852410793304444}}}\u001b[0m\n",
      "\u001b[34m#metrics {\"StartTime\": 1725543948.894739, \"EndTime\": 1725543948.8947475, \"Dimensions\": {\"Algorithm\": \"Linear Learner\", \"Host\": \"algo-1\", \"Operation\": \"training\", \"epoch\": 0, \"model\": 25}, \"Metrics\": {\"train_absolute_loss_objective\": {\"sum\": 0.9540606880187988, \"count\": 1, \"min\": 0.9540606880187988, \"max\": 0.9540606880187988}}}\u001b[0m\n",
      "\u001b[34m#metrics {\"StartTime\": 1725543948.8947778, \"EndTime\": 1725543948.894787, \"Dimensions\": {\"Algorithm\": \"Linear Learner\", \"Host\": \"algo-1\", \"Operation\": \"training\", \"epoch\": 0, \"model\": 26}, \"Metrics\": {\"train_absolute_loss_objective\": {\"sum\": 0.940489091873169, \"count\": 1, \"min\": 0.940489091873169, \"max\": 0.940489091873169}}}\u001b[0m\n",
      "\u001b[34m#metrics {\"StartTime\": 1725543948.8948224, \"EndTime\": 1725543948.894832, \"Dimensions\": {\"Algorithm\": \"Linear Learner\", \"Host\": \"algo-1\", \"Operation\": \"training\", \"epoch\": 0, \"model\": 27}, \"Metrics\": {\"train_absolute_loss_objective\": {\"sum\": 0.9293131828308105, \"count\": 1, \"min\": 0.9293131828308105, \"max\": 0.9293131828308105}}}\u001b[0m\n",
      "\u001b[34m#metrics {\"StartTime\": 1725543948.8948631, \"EndTime\": 1725543948.8948724, \"Dimensions\": {\"Algorithm\": \"Linear Learner\", \"Host\": \"algo-1\", \"Operation\": \"training\", \"epoch\": 0, \"model\": 28}, \"Metrics\": {\"train_absolute_loss_objective\": {\"sum\": 0.9441796779632569, \"count\": 1, \"min\": 0.9441796779632569, \"max\": 0.9441796779632569}}}\u001b[0m\n",
      "\u001b[34m#metrics {\"StartTime\": 1725543948.894903, \"EndTime\": 1725543948.8949113, \"Dimensions\": {\"Algorithm\": \"Linear Learner\", \"Host\": \"algo-1\", \"Operation\": \"training\", \"epoch\": 0, \"model\": 29}, \"Metrics\": {\"train_absolute_loss_objective\": {\"sum\": 0.9449119472503662, \"count\": 1, \"min\": 0.9449119472503662, \"max\": 0.9449119472503662}}}\u001b[0m\n",
      "\u001b[34m#metrics {\"StartTime\": 1725543948.8949413, \"EndTime\": 1725543948.8949504, \"Dimensions\": {\"Algorithm\": \"Linear Learner\", \"Host\": \"algo-1\", \"Operation\": \"training\", \"epoch\": 0, \"model\": 30}, \"Metrics\": {\"train_absolute_loss_objective\": {\"sum\": 0.9523129558563233, \"count\": 1, \"min\": 0.9523129558563233, \"max\": 0.9523129558563233}}}\u001b[0m\n",
      "\u001b[34m#metrics {\"StartTime\": 1725543948.8949769, \"EndTime\": 1725543948.894985, \"Dimensions\": {\"Algorithm\": \"Linear Learner\", \"Host\": \"algo-1\", \"Operation\": \"training\", \"epoch\": 0, \"model\": 31}, \"Metrics\": {\"train_absolute_loss_objective\": {\"sum\": 0.9056462478637696, \"count\": 1, \"min\": 0.9056462478637696, \"max\": 0.9056462478637696}}}\u001b[0m\n",
      "\u001b[34m[09/05/2024 13:45:48 INFO 140359332706112] #quality_metric: host=algo-1, epoch=0, train absolute_loss_objective <loss>=0.9200086402893066\u001b[0m\n",
      "\u001b[34m[09/05/2024 13:45:48 INFO 140359332706112] #early_stopping_criteria_metric: host=algo-1, epoch=0, criteria=absolute_loss_objective, value=0.7582690811157227\u001b[0m\n",
      "\u001b[34m[09/05/2024 13:45:48 INFO 140359332706112] Epoch 0: Loss improved. Updating best model\u001b[0m\n",
      "\u001b[34m[09/05/2024 13:45:48 INFO 140359332706112] Saving model for epoch: 0\u001b[0m\n",
      "\u001b[34m[09/05/2024 13:45:48 INFO 140359332706112] Saved checkpoint to \"/tmp/tmpwfh0dpmf/mx-mod-0000.params\"\u001b[0m\n",
      "\u001b[34m[09/05/2024 13:45:48 INFO 140359332706112] #progress_metric: host=algo-1, completed 20.0 % of epochs\u001b[0m\n",
      "\u001b[34m#metrics {\"StartTime\": 1725543948.8350332, \"EndTime\": 1725543948.9020276, \"Dimensions\": {\"Algorithm\": \"Linear Learner\", \"Host\": \"algo-1\", \"Operation\": \"training\", \"epoch\": 0, \"Meta\": \"training_data_iter\"}, \"Metrics\": {\"Total Records Seen\": {\"sum\": 61.0, \"count\": 1, \"min\": 61, \"max\": 61}, \"Total Batches Seen\": {\"sum\": 13.0, \"count\": 1, \"min\": 13, \"max\": 13}, \"Max Records Seen Between Resets\": {\"sum\": 28.0, \"count\": 1, \"min\": 28, \"max\": 28}, \"Max Batches Seen Between Resets\": {\"sum\": 6.0, \"count\": 1, \"min\": 6, \"max\": 6}, \"Reset Count\": {\"sum\": 3.0, \"count\": 1, \"min\": 3, \"max\": 3}, \"Number of Records Since Last Reset\": {\"sum\": 28.0, \"count\": 1, \"min\": 28, \"max\": 28}, \"Number of Batches Since Last Reset\": {\"sum\": 6.0, \"count\": 1, \"min\": 6, \"max\": 6}}}\u001b[0m\n",
      "\u001b[34m[09/05/2024 13:45:48 INFO 140359332706112] #throughput_metric: host=algo-1, train throughput=417.31253886525883 records/second\u001b[0m\n",
      "\u001b[34m[2024-09-05 13:45:48.953] [tensorio] [info] epoch_stats={\"data_pipeline\": \"/opt/ml/input/data/train\", \"epoch\": 6, \"duration\": 51, \"num_examples\": 6, \"num_bytes\": 1344}\u001b[0m\n",
      "\u001b[34m#metrics {\"StartTime\": 1725543948.9535499, \"EndTime\": 1725543948.9536357, \"Dimensions\": {\"Algorithm\": \"Linear Learner\", \"Host\": \"algo-1\", \"Operation\": \"training\", \"epoch\": 1, \"model\": 0}, \"Metrics\": {\"train_absolute_loss_objective\": {\"sum\": 0.8926824855804444, \"count\": 1, \"min\": 0.8926824855804444, \"max\": 0.8926824855804444}}}\u001b[0m\n",
      "\u001b[34m#metrics {\"StartTime\": 1725543948.9537022, \"EndTime\": 1725543948.953717, \"Dimensions\": {\"Algorithm\": \"Linear Learner\", \"Host\": \"algo-1\", \"Operation\": \"training\", \"epoch\": 1, \"model\": 1}, \"Metrics\": {\"train_absolute_loss_objective\": {\"sum\": 0.9129264640808106, \"count\": 1, \"min\": 0.9129264640808106, \"max\": 0.9129264640808106}}}\u001b[0m\n",
      "\u001b[34m#metrics {\"StartTime\": 1725543948.9537516, \"EndTime\": 1725543948.95376, \"Dimensions\": {\"Algorithm\": \"Linear Learner\", \"Host\": \"algo-1\", \"Operation\": \"training\", \"epoch\": 1, \"model\": 2}, \"Metrics\": {\"train_absolute_loss_objective\": {\"sum\": 0.8951347541809082, \"count\": 1, \"min\": 0.8951347541809082, \"max\": 0.8951347541809082}}}\u001b[0m\n",
      "\u001b[34m#metrics {\"StartTime\": 1725543948.9537868, \"EndTime\": 1725543948.9537954, \"Dimensions\": {\"Algorithm\": \"Linear Learner\", \"Host\": \"algo-1\", \"Operation\": \"training\", \"epoch\": 1, \"model\": 3}, \"Metrics\": {\"train_absolute_loss_objective\": {\"sum\": 0.9118918991088867, \"count\": 1, \"min\": 0.9118918991088867, \"max\": 0.9118918991088867}}}\u001b[0m\n",
      "\u001b[34m#metrics {\"StartTime\": 1725543948.9538214, \"EndTime\": 1725543948.953829, \"Dimensions\": {\"Algorithm\": \"Linear Learner\", \"Host\": \"algo-1\", \"Operation\": \"training\", \"epoch\": 1, \"model\": 4}, \"Metrics\": {\"train_absolute_loss_objective\": {\"sum\": 0.5521453094482421, \"count\": 1, \"min\": 0.5521453094482421, \"max\": 0.5521453094482421}}}\u001b[0m\n",
      "\u001b[34m#metrics {\"StartTime\": 1725543948.9538896, \"EndTime\": 1725543948.9538999, \"Dimensions\": {\"Algorithm\": \"Linear Learner\", \"Host\": \"algo-1\", \"Operation\": \"training\", \"epoch\": 1, \"model\": 5}, \"Metrics\": {\"train_absolute_loss_objective\": {\"sum\": 0.5568220424652099, \"count\": 1, \"min\": 0.5568220424652099, \"max\": 0.5568220424652099}}}\u001b[0m\n",
      "\u001b[34m#metrics {\"StartTime\": 1725543948.9539254, \"EndTime\": 1725543948.953933, \"Dimensions\": {\"Algorithm\": \"Linear Learner\", \"Host\": \"algo-1\", \"Operation\": \"training\", \"epoch\": 1, \"model\": 6}, \"Metrics\": {\"train_absolute_loss_objective\": {\"sum\": 0.5967903995513916, \"count\": 1, \"min\": 0.5967903995513916, \"max\": 0.5967903995513916}}}\u001b[0m\n",
      "\u001b[34m#metrics {\"StartTime\": 1725543948.9539552, \"EndTime\": 1725543948.9539626, \"Dimensions\": {\"Algorithm\": \"Linear Learner\", \"Host\": \"algo-1\", \"Operation\": \"training\", \"epoch\": 1, \"model\": 7}, \"Metrics\": {\"train_absolute_loss_objective\": {\"sum\": 0.5828748607635498, \"count\": 1, \"min\": 0.5828748607635498, \"max\": 0.5828748607635498}}}\u001b[0m\n",
      "\u001b[34m#metrics {\"StartTime\": 1725543948.953988, \"EndTime\": 1725543948.9539967, \"Dimensions\": {\"Algorithm\": \"Linear Learner\", \"Host\": \"algo-1\", \"Operation\": \"training\", \"epoch\": 1, \"model\": 8}, \"Metrics\": {\"train_absolute_loss_objective\": {\"sum\": 0.9495225524902344, \"count\": 1, \"min\": 0.9495225524902344, \"max\": 0.9495225524902344}}}\u001b[0m\n",
      "\u001b[34m#metrics {\"StartTime\": 1725543948.9540236, \"EndTime\": 1725543948.954031, \"Dimensions\": {\"Algorithm\": \"Linear Learner\", \"Host\": \"algo-1\", \"Operation\": \"training\", \"epoch\": 1, \"model\": 9}, \"Metrics\": {\"train_absolute_loss_objective\": {\"sum\": 0.8804505825042724, \"count\": 1, \"min\": 0.8804505825042724, \"max\": 0.8804505825042724}}}\u001b[0m\n",
      "\u001b[34m#metrics {\"StartTime\": 1725543948.954057, \"EndTime\": 1725543948.9540646, \"Dimensions\": {\"Algorithm\": \"Linear Learner\", \"Host\": \"algo-1\", \"Operation\": \"training\", \"epoch\": 1, \"model\": 10}, \"Metrics\": {\"train_absolute_loss_objective\": {\"sum\": 0.887262134552002, \"count\": 1, \"min\": 0.887262134552002, \"max\": 0.887262134552002}}}\u001b[0m\n",
      "\u001b[34m#metrics {\"StartTime\": 1725543948.954091, \"EndTime\": 1725543948.9540997, \"Dimensions\": {\"Algorithm\": \"Linear Learner\", \"Host\": \"algo-1\", \"Operation\": \"training\", \"epoch\": 1, \"model\": 11}, \"Metrics\": {\"train_absolute_loss_objective\": {\"sum\": 0.8721998405456542, \"count\": 1, \"min\": 0.8721998405456542, \"max\": 0.8721998405456542}}}\u001b[0m\n",
      "\u001b[34m#metrics {\"StartTime\": 1725543948.9541278, \"EndTime\": 1725543948.954136, \"Dimensions\": {\"Algorithm\": \"Linear Learner\", \"Host\": \"algo-1\", \"Operation\": \"training\", \"epoch\": 1, \"model\": 12}, \"Metrics\": {\"train_absolute_loss_objective\": {\"sum\": 0.5565955162048339, \"count\": 1, \"min\": 0.5565955162048339, \"max\": 0.5565955162048339}}}\u001b[0m\n",
      "\u001b[34m#metrics {\"StartTime\": 1725543948.9541605, \"EndTime\": 1725543948.954168, \"Dimensions\": {\"Algorithm\": \"Linear Learner\", \"Host\": \"algo-1\", \"Operation\": \"training\", \"epoch\": 1, \"model\": 13}, \"Metrics\": {\"train_absolute_loss_objective\": {\"sum\": 0.5692010307312012, \"count\": 1, \"min\": 0.5692010307312012, \"max\": 0.5692010307312012}}}\u001b[0m\n",
      "\u001b[34m#metrics {\"StartTime\": 1725543948.9542096, \"EndTime\": 1725543948.9542193, \"Dimensions\": {\"Algorithm\": \"Linear Learner\", \"Host\": \"algo-1\", \"Operation\": \"training\", \"epoch\": 1, \"model\": 14}, \"Metrics\": {\"train_absolute_loss_objective\": {\"sum\": 0.5558814668655395, \"count\": 1, \"min\": 0.5558814668655395, \"max\": 0.5558814668655395}}}\u001b[0m\n",
      "\u001b[34m#metrics {\"StartTime\": 1725543948.9542477, \"EndTime\": 1725543948.9542558, \"Dimensions\": {\"Algorithm\": \"Linear Learner\", \"Host\": \"algo-1\", \"Operation\": \"training\", \"epoch\": 1, \"model\": 15}, \"Metrics\": {\"train_absolute_loss_objective\": {\"sum\": 0.5722221469879151, \"count\": 1, \"min\": 0.5722221469879151, \"max\": 0.5722221469879151}}}\u001b[0m\n",
      "\u001b[34m#metrics {\"StartTime\": 1725543948.9542809, \"EndTime\": 1725543948.9542875, \"Dimensions\": {\"Algorithm\": \"Linear Learner\", \"Host\": \"algo-1\", \"Operation\": \"training\", \"epoch\": 1, \"model\": 16}, \"Metrics\": {\"train_absolute_loss_objective\": {\"sum\": 0.8560249710083008, \"count\": 1, \"min\": 0.8560249710083008, \"max\": 0.8560249710083008}}}\u001b[0m\n",
      "\u001b[34m#metrics {\"StartTime\": 1725543948.954312, \"EndTime\": 1725543948.9543195, \"Dimensions\": {\"Algorithm\": \"Linear Learner\", \"Host\": \"algo-1\", \"Operation\": \"training\", \"epoch\": 1, \"model\": 17}, \"Metrics\": {\"train_absolute_loss_objective\": {\"sum\": 0.9081263160705566, \"count\": 1, \"min\": 0.9081263160705566, \"max\": 0.9081263160705566}}}\u001b[0m\n",
      "\u001b[34m#metrics {\"StartTime\": 1725543948.9543447, \"EndTime\": 1725543948.9543524, \"Dimensions\": {\"Algorithm\": \"Linear Learner\", \"Host\": \"algo-1\", \"Operation\": \"training\", \"epoch\": 1, \"model\": 18}, \"Metrics\": {\"train_absolute_loss_objective\": {\"sum\": 0.8835368824005126, \"count\": 1, \"min\": 0.8835368824005126, \"max\": 0.8835368824005126}}}\u001b[0m\n",
      "\u001b[34m#metrics {\"StartTime\": 1725543948.954383, \"EndTime\": 1725543948.9543905, \"Dimensions\": {\"Algorithm\": \"Linear Learner\", \"Host\": \"algo-1\", \"Operation\": \"training\", \"epoch\": 1, \"model\": 19}, \"Metrics\": {\"train_absolute_loss_objective\": {\"sum\": 0.8807903003692626, \"count\": 1, \"min\": 0.8807903003692626, \"max\": 0.8807903003692626}}}\u001b[0m\n",
      "\u001b[34m#metrics {\"StartTime\": 1725543948.9544158, \"EndTime\": 1725543948.9544241, \"Dimensions\": {\"Algorithm\": \"Linear Learner\", \"Host\": \"algo-1\", \"Operation\": \"training\", \"epoch\": 1, \"model\": 20}, \"Metrics\": {\"train_absolute_loss_objective\": {\"sum\": 0.5736194133758545, \"count\": 1, \"min\": 0.5736194133758545, \"max\": 0.5736194133758545}}}\u001b[0m\n",
      "\u001b[34m#metrics {\"StartTime\": 1725543948.9544525, \"EndTime\": 1725543948.9544604, \"Dimensions\": {\"Algorithm\": \"Linear Learner\", \"Host\": \"algo-1\", \"Operation\": \"training\", \"epoch\": 1, \"model\": 21}, \"Metrics\": {\"train_absolute_loss_objective\": {\"sum\": 0.58121244430542, \"count\": 1, \"min\": 0.58121244430542, \"max\": 0.58121244430542}}}\u001b[0m\n",
      "\u001b[34m#metrics {\"StartTime\": 1725543948.9544857, \"EndTime\": 1725543948.9544935, \"Dimensions\": {\"Algorithm\": \"Linear Learner\", \"Host\": \"algo-1\", \"Operation\": \"training\", \"epoch\": 1, \"model\": 22}, \"Metrics\": {\"train_absolute_loss_objective\": {\"sum\": 0.5892302513122558, \"count\": 1, \"min\": 0.5892302513122558, \"max\": 0.5892302513122558}}}\u001b[0m\n",
      "\u001b[34m#metrics {\"StartTime\": 1725543948.9545195, \"EndTime\": 1725543948.9545288, \"Dimensions\": {\"Algorithm\": \"Linear Learner\", \"Host\": \"algo-1\", \"Operation\": \"training\", \"epoch\": 1, \"model\": 23}, \"Metrics\": {\"train_absolute_loss_objective\": {\"sum\": 0.594567575454712, \"count\": 1, \"min\": 0.594567575454712, \"max\": 0.594567575454712}}}\u001b[0m\n",
      "\u001b[34m#metrics {\"StartTime\": 1725543948.9545572, \"EndTime\": 1725543948.954607, \"Dimensions\": {\"Algorithm\": \"Linear Learner\", \"Host\": \"algo-1\", \"Operation\": \"training\", \"epoch\": 1, \"model\": 24}, \"Metrics\": {\"train_absolute_loss_objective\": {\"sum\": 0.9006629085540772, \"count\": 1, \"min\": 0.9006629085540772, \"max\": 0.9006629085540772}}}\u001b[0m\n",
      "\u001b[34m#metrics {\"StartTime\": 1725543948.9546432, \"EndTime\": 1725543948.9546528, \"Dimensions\": {\"Algorithm\": \"Linear Learner\", \"Host\": \"algo-1\", \"Operation\": \"training\", \"epoch\": 1, \"model\": 25}, \"Metrics\": {\"train_absolute_loss_objective\": {\"sum\": 0.9279858875274658, \"count\": 1, \"min\": 0.9279858875274658, \"max\": 0.9279858875274658}}}\u001b[0m\n",
      "\u001b[34m#metrics {\"StartTime\": 1725543948.9546878, \"EndTime\": 1725543948.9546955, \"Dimensions\": {\"Algorithm\": \"Linear Learner\", \"Host\": \"algo-1\", \"Operation\": \"training\", \"epoch\": 1, \"model\": 26}, \"Metrics\": {\"train_absolute_loss_objective\": {\"sum\": 0.9170370388031006, \"count\": 1, \"min\": 0.9170370388031006, \"max\": 0.9170370388031006}}}\u001b[0m\n",
      "\u001b[34m#metrics {\"StartTime\": 1725543948.9547281, \"EndTime\": 1725543948.9547365, \"Dimensions\": {\"Algorithm\": \"Linear Learner\", \"Host\": \"algo-1\", \"Operation\": \"training\", \"epoch\": 1, \"model\": 27}, \"Metrics\": {\"train_absolute_loss_objective\": {\"sum\": 0.9160003280639648, \"count\": 1, \"min\": 0.9160003280639648, \"max\": 0.9160003280639648}}}\u001b[0m\n",
      "\u001b[34m#metrics {\"StartTime\": 1725543948.9547691, \"EndTime\": 1725543948.9547772, \"Dimensions\": {\"Algorithm\": \"Linear Learner\", \"Host\": \"algo-1\", \"Operation\": \"training\", \"epoch\": 1, \"model\": 28}, \"Metrics\": {\"train_absolute_loss_objective\": {\"sum\": 1.003122453689575, \"count\": 1, \"min\": 1.003122453689575, \"max\": 1.003122453689575}}}\u001b[0m\n",
      "\u001b[34m#metrics {\"StartTime\": 1725543948.9548097, \"EndTime\": 1725543948.954818, \"Dimensions\": {\"Algorithm\": \"Linear Learner\", \"Host\": \"algo-1\", \"Operation\": \"training\", \"epoch\": 1, \"model\": 29}, \"Metrics\": {\"train_absolute_loss_objective\": {\"sum\": 1.0022409343719483, \"count\": 1, \"min\": 1.0022409343719483, \"max\": 1.0022409343719483}}}\u001b[0m\n",
      "\u001b[34m#metrics {\"StartTime\": 1725543948.954851, \"EndTime\": 1725543948.954859, \"Dimensions\": {\"Algorithm\": \"Linear Learner\", \"Host\": \"algo-1\", \"Operation\": \"training\", \"epoch\": 1, \"model\": 30}, \"Metrics\": {\"train_absolute_loss_objective\": {\"sum\": 0.9948222064971923, \"count\": 1, \"min\": 0.9948222064971923, \"max\": 0.9948222064971923}}}\u001b[0m\n",
      "\u001b[34m#metrics {\"StartTime\": 1725543948.9548926, \"EndTime\": 1725543948.9549017, \"Dimensions\": {\"Algorithm\": \"Linear Learner\", \"Host\": \"algo-1\", \"Operation\": \"training\", \"epoch\": 1, \"model\": 31}, \"Metrics\": {\"train_absolute_loss_objective\": {\"sum\": 1.0610824966430663, \"count\": 1, \"min\": 1.0610824966430663, \"max\": 1.0610824966430663}}}\u001b[0m\n",
      "\u001b[34m[09/05/2024 13:45:48 INFO 140359332706112] #quality_metric: host=algo-1, epoch=1, train absolute_loss_objective <loss>=0.8926824855804444\u001b[0m\n",
      "\u001b[34m[09/05/2024 13:45:48 INFO 140359332706112] #early_stopping_criteria_metric: host=algo-1, epoch=1, criteria=absolute_loss_objective, value=0.5521453094482421\u001b[0m\n",
      "\u001b[34m[09/05/2024 13:45:48 INFO 140359332706112] Epoch 1: Loss improved. Updating best model\u001b[0m\n",
      "\u001b[34m[09/05/2024 13:45:48 INFO 140359332706112] Saving model for epoch: 1\u001b[0m\n",
      "\u001b[34m[09/05/2024 13:45:48 INFO 140359332706112] Saved checkpoint to \"/tmp/tmpu3ksrbg2/mx-mod-0000.params\"\u001b[0m\n",
      "\u001b[34m[09/05/2024 13:45:48 INFO 140359332706112] #progress_metric: host=algo-1, completed 40.0 % of epochs\u001b[0m\n",
      "\u001b[34m#metrics {\"StartTime\": 1725543948.9022636, \"EndTime\": 1725543948.9618883, \"Dimensions\": {\"Algorithm\": \"Linear Learner\", \"Host\": \"algo-1\", \"Operation\": \"training\", \"epoch\": 1, \"Meta\": \"training_data_iter\"}, \"Metrics\": {\"Total Records Seen\": {\"sum\": 89.0, \"count\": 1, \"min\": 89, \"max\": 89}, \"Total Batches Seen\": {\"sum\": 19.0, \"count\": 1, \"min\": 19, \"max\": 19}, \"Max Records Seen Between Resets\": {\"sum\": 28.0, \"count\": 1, \"min\": 28, \"max\": 28}, \"Max Batches Seen Between Resets\": {\"sum\": 6.0, \"count\": 1, \"min\": 6, \"max\": 6}, \"Reset Count\": {\"sum\": 4.0, \"count\": 1, \"min\": 4, \"max\": 4}, \"Number of Records Since Last Reset\": {\"sum\": 28.0, \"count\": 1, \"min\": 28, \"max\": 28}, \"Number of Batches Since Last Reset\": {\"sum\": 6.0, \"count\": 1, \"min\": 6, \"max\": 6}}}\u001b[0m\n",
      "\u001b[34m[09/05/2024 13:45:48 INFO 140359332706112] #throughput_metric: host=algo-1, train throughput=468.71026217168674 records/second\u001b[0m\n",
      "\u001b[34m[2024-09-05 13:45:49.026] [tensorio] [info] epoch_stats={\"data_pipeline\": \"/opt/ml/input/data/train\", \"epoch\": 8, \"duration\": 64, \"num_examples\": 6, \"num_bytes\": 1344}\u001b[0m\n",
      "\u001b[34m#metrics {\"StartTime\": 1725543949.02644, \"EndTime\": 1725543949.0264947, \"Dimensions\": {\"Algorithm\": \"Linear Learner\", \"Host\": \"algo-1\", \"Operation\": \"training\", \"epoch\": 2, \"model\": 0}, \"Metrics\": {\"train_absolute_loss_objective\": {\"sum\": 0.8698391342163085, \"count\": 1, \"min\": 0.8698391342163085, \"max\": 0.8698391342163085}}}\u001b[0m\n",
      "\u001b[34m#metrics {\"StartTime\": 1725543949.026559, \"EndTime\": 1725543949.026572, \"Dimensions\": {\"Algorithm\": \"Linear Learner\", \"Host\": \"algo-1\", \"Operation\": \"training\", \"epoch\": 2, \"model\": 1}, \"Metrics\": {\"train_absolute_loss_objective\": {\"sum\": 0.890002965927124, \"count\": 1, \"min\": 0.890002965927124, \"max\": 0.890002965927124}}}\u001b[0m\n",
      "\u001b[34m#metrics {\"StartTime\": 1725543949.0266006, \"EndTime\": 1725543949.0266082, \"Dimensions\": {\"Algorithm\": \"Linear Learner\", \"Host\": \"algo-1\", \"Operation\": \"training\", \"epoch\": 2, \"model\": 2}, \"Metrics\": {\"train_absolute_loss_objective\": {\"sum\": 0.8722914218902588, \"count\": 1, \"min\": 0.8722914218902588, \"max\": 0.8722914218902588}}}\u001b[0m\n",
      "\u001b[34m#metrics {\"StartTime\": 1725543949.0266318, \"EndTime\": 1725543949.0266383, \"Dimensions\": {\"Algorithm\": \"Linear Learner\", \"Host\": \"algo-1\", \"Operation\": \"training\", \"epoch\": 2, \"model\": 3}, \"Metrics\": {\"train_absolute_loss_objective\": {\"sum\": 0.8889684295654297, \"count\": 1, \"min\": 0.8889684295654297, \"max\": 0.8889684295654297}}}\u001b[0m\n",
      "\u001b[34m#metrics {\"StartTime\": 1725543949.0266614, \"EndTime\": 1725543949.0266676, \"Dimensions\": {\"Algorithm\": \"Linear Learner\", \"Host\": \"algo-1\", \"Operation\": \"training\", \"epoch\": 2, \"model\": 4}, \"Metrics\": {\"train_absolute_loss_objective\": {\"sum\": 0.3068655252456665, \"count\": 1, \"min\": 0.3068655252456665, \"max\": 0.3068655252456665}}}\u001b[0m\n",
      "\u001b[34m#metrics {\"StartTime\": 1725543949.0266902, \"EndTime\": 1725543949.0266976, \"Dimensions\": {\"Algorithm\": \"Linear Learner\", \"Host\": \"algo-1\", \"Operation\": \"training\", \"epoch\": 2, \"model\": 5}, \"Metrics\": {\"train_absolute_loss_objective\": {\"sum\": 0.30561808347702024, \"count\": 1, \"min\": 0.30561808347702024, \"max\": 0.30561808347702024}}}\u001b[0m\n",
      "\u001b[34m#metrics {\"StartTime\": 1725543949.0267231, \"EndTime\": 1725543949.0267315, \"Dimensions\": {\"Algorithm\": \"Linear Learner\", \"Host\": \"algo-1\", \"Operation\": \"training\", \"epoch\": 2, \"model\": 6}, \"Metrics\": {\"train_absolute_loss_objective\": {\"sum\": 0.28143040657043455, \"count\": 1, \"min\": 0.28143040657043455, \"max\": 0.28143040657043455}}}\u001b[0m\n",
      "\u001b[34m#metrics {\"StartTime\": 1725543949.0267565, \"EndTime\": 1725543949.0267634, \"Dimensions\": {\"Algorithm\": \"Linear Learner\", \"Host\": \"algo-1\", \"Operation\": \"training\", \"epoch\": 2, \"model\": 7}, \"Metrics\": {\"train_absolute_loss_objective\": {\"sum\": 0.29077533960342405, \"count\": 1, \"min\": 0.29077533960342405, \"max\": 0.29077533960342405}}}\u001b[0m\n",
      "\u001b[34m#metrics {\"StartTime\": 1725543949.0267878, \"EndTime\": 1725543949.0267956, \"Dimensions\": {\"Algorithm\": \"Linear Learner\", \"Host\": \"algo-1\", \"Operation\": \"training\", \"epoch\": 2, \"model\": 8}, \"Metrics\": {\"train_absolute_loss_objective\": {\"sum\": 0.926679859161377, \"count\": 1, \"min\": 0.926679859161377, \"max\": 0.926679859161377}}}\u001b[0m\n",
      "\u001b[34m#metrics {\"StartTime\": 1725543949.0268211, \"EndTime\": 1725543949.026828, \"Dimensions\": {\"Algorithm\": \"Linear Learner\", \"Host\": \"algo-1\", \"Operation\": \"training\", \"epoch\": 2, \"model\": 9}, \"Metrics\": {\"train_absolute_loss_objective\": {\"sum\": 0.8575286102294922, \"count\": 1, \"min\": 0.8575286102294922, \"max\": 0.8575286102294922}}}\u001b[0m\n",
      "\u001b[34m#metrics {\"StartTime\": 1725543949.0268521, \"EndTime\": 1725543949.0268598, \"Dimensions\": {\"Algorithm\": \"Linear Learner\", \"Host\": \"algo-1\", \"Operation\": \"training\", \"epoch\": 2, \"model\": 10}, \"Metrics\": {\"train_absolute_loss_objective\": {\"sum\": 0.8644202327728272, \"count\": 1, \"min\": 0.8644202327728272, \"max\": 0.8644202327728272}}}\u001b[0m\n",
      "\u001b[34m#metrics {\"StartTime\": 1725543949.0268836, \"EndTime\": 1725543949.026891, \"Dimensions\": {\"Algorithm\": \"Linear Learner\", \"Host\": \"algo-1\", \"Operation\": \"training\", \"epoch\": 2, \"model\": 11}, \"Metrics\": {\"train_absolute_loss_objective\": {\"sum\": 0.8492779731750488, \"count\": 1, \"min\": 0.8492779731750488, \"max\": 0.8492779731750488}}}\u001b[0m\n",
      "\u001b[34m#metrics {\"StartTime\": 1725543949.0269158, \"EndTime\": 1725543949.026924, \"Dimensions\": {\"Algorithm\": \"Linear Learner\", \"Host\": \"algo-1\", \"Operation\": \"training\", \"epoch\": 2, \"model\": 12}, \"Metrics\": {\"train_absolute_loss_objective\": {\"sum\": 0.3036030912399292, \"count\": 1, \"min\": 0.3036030912399292, \"max\": 0.3036030912399292}}}\u001b[0m\n",
      "\u001b[34m#metrics {\"StartTime\": 1725543949.026954, \"EndTime\": 1725543949.0269616, \"Dimensions\": {\"Algorithm\": \"Linear Learner\", \"Host\": \"algo-1\", \"Operation\": \"training\", \"epoch\": 2, \"model\": 13}, \"Metrics\": {\"train_absolute_loss_objective\": {\"sum\": 0.2978627014160156, \"count\": 1, \"min\": 0.2978627014160156, \"max\": 0.2978627014160156}}}\u001b[0m\n",
      "\u001b[34m#metrics {\"StartTime\": 1725543949.0269873, \"EndTime\": 1725543949.0269952, \"Dimensions\": {\"Algorithm\": \"Linear Learner\", \"Host\": \"algo-1\", \"Operation\": \"training\", \"epoch\": 2, \"model\": 14}, \"Metrics\": {\"train_absolute_loss_objective\": {\"sum\": 0.30400819778442384, \"count\": 1, \"min\": 0.30400819778442384, \"max\": 0.30400819778442384}}}\u001b[0m\n",
      "\u001b[34m#metrics {\"StartTime\": 1725543949.0270216, \"EndTime\": 1725543949.0270298, \"Dimensions\": {\"Algorithm\": \"Linear Learner\", \"Host\": \"algo-1\", \"Operation\": \"training\", \"epoch\": 2, \"model\": 15}, \"Metrics\": {\"train_absolute_loss_objective\": {\"sum\": 0.2961485719680786, \"count\": 1, \"min\": 0.2961485719680786, \"max\": 0.2961485719680786}}}\u001b[0m\n",
      "\u001b[34m#metrics {\"StartTime\": 1725543949.0270562, \"EndTime\": 1725543949.0270648, \"Dimensions\": {\"Algorithm\": \"Linear Learner\", \"Host\": \"algo-1\", \"Operation\": \"training\", \"epoch\": 2, \"model\": 16}, \"Metrics\": {\"train_absolute_loss_objective\": {\"sum\": 0.8333859157562256, \"count\": 1, \"min\": 0.8333859157562256, \"max\": 0.8333859157562256}}}\u001b[0m\n",
      "\u001b[34m#metrics {\"StartTime\": 1725543949.0270917, \"EndTime\": 1725543949.0271006, \"Dimensions\": {\"Algorithm\": \"Linear Learner\", \"Host\": \"algo-1\", \"Operation\": \"training\", \"epoch\": 2, \"model\": 17}, \"Metrics\": {\"train_absolute_loss_objective\": {\"sum\": 0.8853275394439697, \"count\": 1, \"min\": 0.8853275394439697, \"max\": 0.8853275394439697}}}\u001b[0m\n",
      "\u001b[34m#metrics {\"StartTime\": 1725543949.027127, \"EndTime\": 1725543949.027135, \"Dimensions\": {\"Algorithm\": \"Linear Learner\", \"Host\": \"algo-1\", \"Operation\": \"training\", \"epoch\": 2, \"model\": 18}, \"Metrics\": {\"train_absolute_loss_objective\": {\"sum\": 0.8608535385131836, \"count\": 1, \"min\": 0.8608535385131836, \"max\": 0.8608535385131836}}}\u001b[0m\n",
      "\u001b[34m#metrics {\"StartTime\": 1725543949.027161, \"EndTime\": 1725543949.0271688, \"Dimensions\": {\"Algorithm\": \"Linear Learner\", \"Host\": \"algo-1\", \"Operation\": \"training\", \"epoch\": 2, \"model\": 19}, \"Metrics\": {\"train_absolute_loss_objective\": {\"sum\": 0.8580319118499756, \"count\": 1, \"min\": 0.8580319118499756, \"max\": 0.8580319118499756}}}\u001b[0m\n",
      "\u001b[34m#metrics {\"StartTime\": 1725543949.0271947, \"EndTime\": 1725543949.0272026, \"Dimensions\": {\"Algorithm\": \"Linear Learner\", \"Host\": \"algo-1\", \"Operation\": \"training\", \"epoch\": 2, \"model\": 20}, \"Metrics\": {\"train_absolute_loss_objective\": {\"sum\": 0.2619430923461914, \"count\": 1, \"min\": 0.2619430923461914, \"max\": 0.2619430923461914}}}\u001b[0m\n",
      "\u001b[34m#metrics {\"StartTime\": 1725543949.0272284, \"EndTime\": 1725543949.0272374, \"Dimensions\": {\"Algorithm\": \"Linear Learner\", \"Host\": \"algo-1\", \"Operation\": \"training\", \"epoch\": 2, \"model\": 21}, \"Metrics\": {\"train_absolute_loss_objective\": {\"sum\": 0.2649642300605774, \"count\": 1, \"min\": 0.2649642300605774, \"max\": 0.2649642300605774}}}\u001b[0m\n",
      "\u001b[34m#metrics {\"StartTime\": 1725543949.0272634, \"EndTime\": 1725543949.0272713, \"Dimensions\": {\"Algorithm\": \"Linear Learner\", \"Host\": \"algo-1\", \"Operation\": \"training\", \"epoch\": 2, \"model\": 22}, \"Metrics\": {\"train_absolute_loss_objective\": {\"sum\": 0.3595012855529785, \"count\": 1, \"min\": 0.3595012855529785, \"max\": 0.3595012855529785}}}\u001b[0m\n",
      "\u001b[34m#metrics {\"StartTime\": 1725543949.0272968, \"EndTime\": 1725543949.0273044, \"Dimensions\": {\"Algorithm\": \"Linear Learner\", \"Host\": \"algo-1\", \"Operation\": \"training\", \"epoch\": 2, \"model\": 23}, \"Metrics\": {\"train_absolute_loss_objective\": {\"sum\": 0.2715231680870056, \"count\": 1, \"min\": 0.2715231680870056, \"max\": 0.2715231680870056}}}\u001b[0m\n",
      "\u001b[34m#metrics {\"StartTime\": 1725543949.027331, \"EndTime\": 1725543949.02734, \"Dimensions\": {\"Algorithm\": \"Linear Learner\", \"Host\": \"algo-1\", \"Operation\": \"training\", \"epoch\": 2, \"model\": 24}, \"Metrics\": {\"train_absolute_loss_objective\": {\"sum\": 0.9169865036010743, \"count\": 1, \"min\": 0.9169865036010743, \"max\": 0.9169865036010743}}}\u001b[0m\n",
      "\u001b[34m#metrics {\"StartTime\": 1725543949.0273666, \"EndTime\": 1725543949.0273752, \"Dimensions\": {\"Algorithm\": \"Linear Learner\", \"Host\": \"algo-1\", \"Operation\": \"training\", \"epoch\": 2, \"model\": 25}, \"Metrics\": {\"train_absolute_loss_objective\": {\"sum\": 0.9122920608520508, \"count\": 1, \"min\": 0.9122920608520508, \"max\": 0.9122920608520508}}}\u001b[0m\n",
      "\u001b[34m#metrics {\"StartTime\": 1725543949.027402, \"EndTime\": 1725543949.0274103, \"Dimensions\": {\"Algorithm\": \"Linear Learner\", \"Host\": \"algo-1\", \"Operation\": \"training\", \"epoch\": 2, \"model\": 26}, \"Metrics\": {\"train_absolute_loss_objective\": {\"sum\": 0.9109434509277343, \"count\": 1, \"min\": 0.9109434509277343, \"max\": 0.9109434509277343}}}\u001b[0m\n",
      "\u001b[34m#metrics {\"StartTime\": 1725543949.027438, \"EndTime\": 1725543949.0274463, \"Dimensions\": {\"Algorithm\": \"Linear Learner\", \"Host\": \"algo-1\", \"Operation\": \"training\", \"epoch\": 2, \"model\": 27}, \"Metrics\": {\"train_absolute_loss_objective\": {\"sum\": 0.9207941246032715, \"count\": 1, \"min\": 0.9207941246032715, \"max\": 0.9207941246032715}}}\u001b[0m\n",
      "\u001b[34m#metrics {\"StartTime\": 1725543949.0274715, \"EndTime\": 1725543949.0274796, \"Dimensions\": {\"Algorithm\": \"Linear Learner\", \"Host\": \"algo-1\", \"Operation\": \"training\", \"epoch\": 2, \"model\": 28}, \"Metrics\": {\"train_absolute_loss_objective\": {\"sum\": 0.9987236785888672, \"count\": 1, \"min\": 0.9987236785888672, \"max\": 0.9987236785888672}}}\u001b[0m\n",
      "\u001b[34m#metrics {\"StartTime\": 1725543949.0275056, \"EndTime\": 1725543949.027513, \"Dimensions\": {\"Algorithm\": \"Linear Learner\", \"Host\": \"algo-1\", \"Operation\": \"training\", \"epoch\": 2, \"model\": 29}, \"Metrics\": {\"train_absolute_loss_objective\": {\"sum\": 0.9999715042114258, \"count\": 1, \"min\": 0.9999715042114258, \"max\": 0.9999715042114258}}}\u001b[0m\n",
      "\u001b[34m#metrics {\"StartTime\": 1725543949.0275455, \"EndTime\": 1725543949.0275545, \"Dimensions\": {\"Algorithm\": \"Linear Learner\", \"Host\": \"algo-1\", \"Operation\": \"training\", \"epoch\": 2, \"model\": 30}, \"Metrics\": {\"train_absolute_loss_objective\": {\"sum\": 1.0049090576171875, \"count\": 1, \"min\": 1.0049090576171875, \"max\": 1.0049090576171875}}}\u001b[0m\n",
      "\u001b[34m#metrics {\"StartTime\": 1725543949.0275822, \"EndTime\": 1725543949.02759, \"Dimensions\": {\"Algorithm\": \"Linear Learner\", \"Host\": \"algo-1\", \"Operation\": \"training\", \"epoch\": 2, \"model\": 31}, \"Metrics\": {\"train_absolute_loss_objective\": {\"sum\": 0.9665756034851074, \"count\": 1, \"min\": 0.9665756034851074, \"max\": 0.9665756034851074}}}\u001b[0m\n",
      "\u001b[34m[09/05/2024 13:45:49 INFO 140359332706112] #quality_metric: host=algo-1, epoch=2, train absolute_loss_objective <loss>=0.8698391342163085\u001b[0m\n",
      "\u001b[34m[09/05/2024 13:45:49 INFO 140359332706112] #early_stopping_criteria_metric: host=algo-1, epoch=2, criteria=absolute_loss_objective, value=0.2619430923461914\u001b[0m\n",
      "\u001b[34m[09/05/2024 13:45:49 INFO 140359332706112] Epoch 2: Loss improved. Updating best model\u001b[0m\n",
      "\u001b[34m[09/05/2024 13:45:49 INFO 140359332706112] Saving model for epoch: 2\u001b[0m\n",
      "\u001b[34m[09/05/2024 13:45:49 INFO 140359332706112] Saved checkpoint to \"/tmp/tmpdhois9_0/mx-mod-0000.params\"\u001b[0m\n",
      "\u001b[34m[09/05/2024 13:45:49 INFO 140359332706112] #progress_metric: host=algo-1, completed 60.0 % of epochs\u001b[0m\n",
      "\u001b[34m#metrics {\"StartTime\": 1725543948.9621294, \"EndTime\": 1725543949.033802, \"Dimensions\": {\"Algorithm\": \"Linear Learner\", \"Host\": \"algo-1\", \"Operation\": \"training\", \"epoch\": 2, \"Meta\": \"training_data_iter\"}, \"Metrics\": {\"Total Records Seen\": {\"sum\": 117.0, \"count\": 1, \"min\": 117, \"max\": 117}, \"Total Batches Seen\": {\"sum\": 25.0, \"count\": 1, \"min\": 25, \"max\": 25}, \"Max Records Seen Between Resets\": {\"sum\": 28.0, \"count\": 1, \"min\": 28, \"max\": 28}, \"Max Batches Seen Between Resets\": {\"sum\": 6.0, \"count\": 1, \"min\": 6, \"max\": 6}, \"Reset Count\": {\"sum\": 5.0, \"count\": 1, \"min\": 5, \"max\": 5}, \"Number of Records Since Last Reset\": {\"sum\": 28.0, \"count\": 1, \"min\": 28, \"max\": 28}, \"Number of Batches Since Last Reset\": {\"sum\": 6.0, \"count\": 1, \"min\": 6, \"max\": 6}}}\u001b[0m\n",
      "\u001b[34m[09/05/2024 13:45:49 INFO 140359332706112] #throughput_metric: host=algo-1, train throughput=389.951462145587 records/second\u001b[0m\n",
      "\u001b[34m[2024-09-05 13:45:49.093] [tensorio] [info] epoch_stats={\"data_pipeline\": \"/opt/ml/input/data/train\", \"epoch\": 10, \"duration\": 59, \"num_examples\": 6, \"num_bytes\": 1344}\u001b[0m\n",
      "\u001b[34m#metrics {\"StartTime\": 1725543949.0932183, \"EndTime\": 1725543949.0932755, \"Dimensions\": {\"Algorithm\": \"Linear Learner\", \"Host\": \"algo-1\", \"Operation\": \"training\", \"epoch\": 3, \"model\": 0}, \"Metrics\": {\"train_absolute_loss_objective\": {\"sum\": 0.8475160217285156, \"count\": 1, \"min\": 0.8475160217285156, \"max\": 0.8475160217285156}}}\u001b[0m\n",
      "\u001b[34m#metrics {\"StartTime\": 1725543949.093342, \"EndTime\": 1725543949.0933542, \"Dimensions\": {\"Algorithm\": \"Linear Learner\", \"Host\": \"algo-1\", \"Operation\": \"training\", \"epoch\": 3, \"model\": 1}, \"Metrics\": {\"train_absolute_loss_objective\": {\"sum\": 0.8674543762207031, \"count\": 1, \"min\": 0.8674543762207031, \"max\": 0.8674543762207031}}}\u001b[0m\n",
      "\u001b[34m#metrics {\"StartTime\": 1725543949.0933843, \"EndTime\": 1725543949.0933914, \"Dimensions\": {\"Algorithm\": \"Linear Learner\", \"Host\": \"algo-1\", \"Operation\": \"training\", \"epoch\": 3, \"model\": 2}, \"Metrics\": {\"train_absolute_loss_objective\": {\"sum\": 0.8499683380126953, \"count\": 1, \"min\": 0.8499683380126953, \"max\": 0.8499683380126953}}}\u001b[0m\n",
      "\u001b[34m#metrics {\"StartTime\": 1725543949.0934167, \"EndTime\": 1725543949.0934243, \"Dimensions\": {\"Algorithm\": \"Linear Learner\", \"Host\": \"algo-1\", \"Operation\": \"training\", \"epoch\": 3, \"model\": 3}, \"Metrics\": {\"train_absolute_loss_objective\": {\"sum\": 0.8664198398590088, \"count\": 1, \"min\": 0.8664198398590088, \"max\": 0.8664198398590088}}}\u001b[0m\n",
      "\u001b[34m#metrics {\"StartTime\": 1725543949.09345, \"EndTime\": 1725543949.0934572, \"Dimensions\": {\"Algorithm\": \"Linear Learner\", \"Host\": \"algo-1\", \"Operation\": \"training\", \"epoch\": 3, \"model\": 4}, \"Metrics\": {\"train_absolute_loss_objective\": {\"sum\": 0.30785001277923585, \"count\": 1, \"min\": 0.30785001277923585, \"max\": 0.30785001277923585}}}\u001b[0m\n",
      "\u001b[34m#metrics {\"StartTime\": 1725543949.0934777, \"EndTime\": 1725543949.0934832, \"Dimensions\": {\"Algorithm\": \"Linear Learner\", \"Host\": \"algo-1\", \"Operation\": \"training\", \"epoch\": 3, \"model\": 5}, \"Metrics\": {\"train_absolute_loss_objective\": {\"sum\": 0.30562419414520264, \"count\": 1, \"min\": 0.30562419414520264, \"max\": 0.30562419414520264}}}\u001b[0m\n",
      "\u001b[34m#metrics {\"StartTime\": 1725543949.093505, \"EndTime\": 1725543949.0935106, \"Dimensions\": {\"Algorithm\": \"Linear Learner\", \"Host\": \"algo-1\", \"Operation\": \"training\", \"epoch\": 3, \"model\": 6}, \"Metrics\": {\"train_absolute_loss_objective\": {\"sum\": 0.3441606116294861, \"count\": 1, \"min\": 0.3441606116294861, \"max\": 0.3441606116294861}}}\u001b[0m\n",
      "\u001b[34m#metrics {\"StartTime\": 1725543949.0935297, \"EndTime\": 1725543949.093535, \"Dimensions\": {\"Algorithm\": \"Linear Learner\", \"Host\": \"algo-1\", \"Operation\": \"training\", \"epoch\": 3, \"model\": 7}, \"Metrics\": {\"train_absolute_loss_objective\": {\"sum\": 0.3202298927307129, \"count\": 1, \"min\": 0.3202298927307129, \"max\": 0.3202298927307129}}}\u001b[0m\n",
      "\u001b[34m#metrics {\"StartTime\": 1725543949.093558, \"EndTime\": 1725543949.0935655, \"Dimensions\": {\"Algorithm\": \"Linear Learner\", \"Host\": \"algo-1\", \"Operation\": \"training\", \"epoch\": 3, \"model\": 8}, \"Metrics\": {\"train_absolute_loss_objective\": {\"sum\": 0.9043587303161621, \"count\": 1, \"min\": 0.9043587303161621, \"max\": 0.9043587303161621}}}\u001b[0m\n",
      "\u001b[34m#metrics {\"StartTime\": 1725543949.093585, \"EndTime\": 1725543949.0935905, \"Dimensions\": {\"Algorithm\": \"Linear Learner\", \"Host\": \"algo-1\", \"Operation\": \"training\", \"epoch\": 3, \"model\": 9}, \"Metrics\": {\"train_absolute_loss_objective\": {\"sum\": 0.8349829292297364, \"count\": 1, \"min\": 0.8349829292297364, \"max\": 0.8349829292297364}}}\u001b[0m\n",
      "\u001b[34m#metrics {\"StartTime\": 1725543949.0936453, \"EndTime\": 1725543949.093653, \"Dimensions\": {\"Algorithm\": \"Linear Learner\", \"Host\": \"algo-1\", \"Operation\": \"training\", \"epoch\": 3, \"model\": 10}, \"Metrics\": {\"train_absolute_loss_objective\": {\"sum\": 0.8420998764038086, \"count\": 1, \"min\": 0.8420998764038086, \"max\": 0.8420998764038086}}}\u001b[0m\n",
      "\u001b[34m#metrics {\"StartTime\": 1725543949.093673, \"EndTime\": 1725543949.0936782, \"Dimensions\": {\"Algorithm\": \"Linear Learner\", \"Host\": \"algo-1\", \"Operation\": \"training\", \"epoch\": 3, \"model\": 11}, \"Metrics\": {\"train_absolute_loss_objective\": {\"sum\": 0.8267324161529541, \"count\": 1, \"min\": 0.8267324161529541, \"max\": 0.8267324161529541}}}\u001b[0m\n",
      "\u001b[34m#metrics {\"StartTime\": 1725543949.0936964, \"EndTime\": 1725543949.0937016, \"Dimensions\": {\"Algorithm\": \"Linear Learner\", \"Host\": \"algo-1\", \"Operation\": \"training\", \"epoch\": 3, \"model\": 12}, \"Metrics\": {\"train_absolute_loss_objective\": {\"sum\": 0.2989544987678528, \"count\": 1, \"min\": 0.2989544987678528, \"max\": 0.2989544987678528}}}\u001b[0m\n",
      "\u001b[34m#metrics {\"StartTime\": 1725543949.09372, \"EndTime\": 1725543949.0937257, \"Dimensions\": {\"Algorithm\": \"Linear Learner\", \"Host\": \"algo-1\", \"Operation\": \"training\", \"epoch\": 3, \"model\": 13}, \"Metrics\": {\"train_absolute_loss_objective\": {\"sum\": 0.31189814329147336, \"count\": 1, \"min\": 0.31189814329147336, \"max\": 0.31189814329147336}}}\u001b[0m\n",
      "\u001b[34m#metrics {\"StartTime\": 1725543949.0937436, \"EndTime\": 1725543949.093749, \"Dimensions\": {\"Algorithm\": \"Linear Learner\", \"Host\": \"algo-1\", \"Operation\": \"training\", \"epoch\": 3, \"model\": 14}, \"Metrics\": {\"train_absolute_loss_objective\": {\"sum\": 0.29973195314407347, \"count\": 1, \"min\": 0.29973195314407347, \"max\": 0.29973195314407347}}}\u001b[0m\n",
      "\u001b[34m#metrics {\"StartTime\": 1725543949.0937703, \"EndTime\": 1725543949.0937755, \"Dimensions\": {\"Algorithm\": \"Linear Learner\", \"Host\": \"algo-1\", \"Operation\": \"training\", \"epoch\": 3, \"model\": 15}, \"Metrics\": {\"train_absolute_loss_objective\": {\"sum\": 0.31023678064346316, \"count\": 1, \"min\": 0.31023678064346316, \"max\": 0.31023678064346316}}}\u001b[0m\n",
      "\u001b[34m#metrics {\"StartTime\": 1725543949.0937948, \"EndTime\": 1725543949.0938003, \"Dimensions\": {\"Algorithm\": \"Linear Learner\", \"Host\": \"algo-1\", \"Operation\": \"training\", \"epoch\": 3, \"model\": 16}, \"Metrics\": {\"train_absolute_loss_objective\": {\"sum\": 0.811423749923706, \"count\": 1, \"min\": 0.811423749923706, \"max\": 0.811423749923706}}}\u001b[0m\n",
      "\u001b[34m#metrics {\"StartTime\": 1725543949.0938203, \"EndTime\": 1725543949.0938258, \"Dimensions\": {\"Algorithm\": \"Linear Learner\", \"Host\": \"algo-1\", \"Operation\": \"training\", \"epoch\": 3, \"model\": 17}, \"Metrics\": {\"train_absolute_loss_objective\": {\"sum\": 0.8630465984344482, \"count\": 1, \"min\": 0.8630465984344482, \"max\": 0.8630465984344482}}}\u001b[0m\n",
      "\u001b[34m#metrics {\"StartTime\": 1725543949.093844, \"EndTime\": 1725543949.0938494, \"Dimensions\": {\"Algorithm\": \"Linear Learner\", \"Host\": \"algo-1\", \"Operation\": \"training\", \"epoch\": 3, \"model\": 18}, \"Metrics\": {\"train_absolute_loss_objective\": {\"sum\": 0.838838119506836, \"count\": 1, \"min\": 0.838838119506836, \"max\": 0.838838119506836}}}\u001b[0m\n",
      "\u001b[34m#metrics {\"StartTime\": 1725543949.0938702, \"EndTime\": 1725543949.093876, \"Dimensions\": {\"Algorithm\": \"Linear Learner\", \"Host\": \"algo-1\", \"Operation\": \"training\", \"epoch\": 3, \"model\": 19}, \"Metrics\": {\"train_absolute_loss_objective\": {\"sum\": 0.8357999515533447, \"count\": 1, \"min\": 0.8357999515533447, \"max\": 0.8357999515533447}}}\u001b[0m\n",
      "\u001b[34m#metrics {\"StartTime\": 1725543949.093894, \"EndTime\": 1725543949.0938993, \"Dimensions\": {\"Algorithm\": \"Linear Learner\", \"Host\": \"algo-1\", \"Operation\": \"training\", \"epoch\": 3, \"model\": 20}, \"Metrics\": {\"train_absolute_loss_objective\": {\"sum\": 0.3186579465866089, \"count\": 1, \"min\": 0.3186579465866089, \"max\": 0.3186579465866089}}}\u001b[0m\n",
      "\u001b[34m#metrics {\"StartTime\": 1725543949.093917, \"EndTime\": 1725543949.0939224, \"Dimensions\": {\"Algorithm\": \"Linear Learner\", \"Host\": \"algo-1\", \"Operation\": \"training\", \"epoch\": 3, \"model\": 21}, \"Metrics\": {\"train_absolute_loss_objective\": {\"sum\": 0.3183538198471069, \"count\": 1, \"min\": 0.3183538198471069, \"max\": 0.3183538198471069}}}\u001b[0m\n",
      "\u001b[34m#metrics {\"StartTime\": 1725543949.09394, \"EndTime\": 1725543949.0939453, \"Dimensions\": {\"Algorithm\": \"Linear Learner\", \"Host\": \"algo-1\", \"Operation\": \"training\", \"epoch\": 3, \"model\": 22}, \"Metrics\": {\"train_absolute_loss_objective\": {\"sum\": 0.5443105888366699, \"count\": 1, \"min\": 0.5443105888366699, \"max\": 0.5443105888366699}}}\u001b[0m\n",
      "\u001b[34m#metrics {\"StartTime\": 1725543949.093963, \"EndTime\": 1725543949.0939684, \"Dimensions\": {\"Algorithm\": \"Linear Learner\", \"Host\": \"algo-1\", \"Operation\": \"training\", \"epoch\": 3, \"model\": 23}, \"Metrics\": {\"train_absolute_loss_objective\": {\"sum\": 0.31556966304779055, \"count\": 1, \"min\": 0.31556966304779055, \"max\": 0.31556966304779055}}}\u001b[0m\n",
      "\u001b[34m#metrics {\"StartTime\": 1725543949.0939887, \"EndTime\": 1725543949.093994, \"Dimensions\": {\"Algorithm\": \"Linear Learner\", \"Host\": \"algo-1\", \"Operation\": \"training\", \"epoch\": 3, \"model\": 24}, \"Metrics\": {\"train_absolute_loss_objective\": {\"sum\": 0.9270068168640136, \"count\": 1, \"min\": 0.9270068168640136, \"max\": 0.9270068168640136}}}\u001b[0m\n",
      "\u001b[34m#metrics {\"StartTime\": 1725543949.0940123, \"EndTime\": 1725543949.0940173, \"Dimensions\": {\"Algorithm\": \"Linear Learner\", \"Host\": \"algo-1\", \"Operation\": \"training\", \"epoch\": 3, \"model\": 25}, \"Metrics\": {\"train_absolute_loss_objective\": {\"sum\": 0.9072652530670166, \"count\": 1, \"min\": 0.9072652530670166, \"max\": 0.9072652530670166}}}\u001b[0m\n",
      "\u001b[34m#metrics {\"StartTime\": 1725543949.0940382, \"EndTime\": 1725543949.0940437, \"Dimensions\": {\"Algorithm\": \"Linear Learner\", \"Host\": \"algo-1\", \"Operation\": \"training\", \"epoch\": 3, \"model\": 26}, \"Metrics\": {\"train_absolute_loss_objective\": {\"sum\": 0.915578498840332, \"count\": 1, \"min\": 0.915578498840332, \"max\": 0.915578498840332}}}\u001b[0m\n",
      "\u001b[34m#metrics {\"StartTime\": 1725543949.0940638, \"EndTime\": 1725543949.094069, \"Dimensions\": {\"Algorithm\": \"Linear Learner\", \"Host\": \"algo-1\", \"Operation\": \"training\", \"epoch\": 3, \"model\": 27}, \"Metrics\": {\"train_absolute_loss_objective\": {\"sum\": 0.9205418014526368, \"count\": 1, \"min\": 0.9205418014526368, \"max\": 0.9205418014526368}}}\u001b[0m\n",
      "\u001b[34m#metrics {\"StartTime\": 1725543949.0940874, \"EndTime\": 1725543949.0940928, \"Dimensions\": {\"Algorithm\": \"Linear Learner\", \"Host\": \"algo-1\", \"Operation\": \"training\", \"epoch\": 3, \"model\": 28}, \"Metrics\": {\"train_absolute_loss_objective\": {\"sum\": 0.9582117271423339, \"count\": 1, \"min\": 0.9582117271423339, \"max\": 0.9582117271423339}}}\u001b[0m\n",
      "\u001b[34m#metrics {\"StartTime\": 1725543949.094113, \"EndTime\": 1725543949.0941184, \"Dimensions\": {\"Algorithm\": \"Linear Learner\", \"Host\": \"algo-1\", \"Operation\": \"training\", \"epoch\": 3, \"model\": 29}, \"Metrics\": {\"train_absolute_loss_objective\": {\"sum\": 0.9599939632415772, \"count\": 1, \"min\": 0.9599939632415772, \"max\": 0.9599939632415772}}}\u001b[0m\n",
      "\u001b[34m#metrics {\"StartTime\": 1725543949.094136, \"EndTime\": 1725543949.0941415, \"Dimensions\": {\"Algorithm\": \"Linear Learner\", \"Host\": \"algo-1\", \"Operation\": \"training\", \"epoch\": 3, \"model\": 30}, \"Metrics\": {\"train_absolute_loss_objective\": {\"sum\": 0.9558461666107178, \"count\": 1, \"min\": 0.9558461666107178, \"max\": 0.9558461666107178}}}\u001b[0m\n",
      "\u001b[34m#metrics {\"StartTime\": 1725543949.094159, \"EndTime\": 1725543949.094164, \"Dimensions\": {\"Algorithm\": \"Linear Learner\", \"Host\": \"algo-1\", \"Operation\": \"training\", \"epoch\": 3, \"model\": 31}, \"Metrics\": {\"train_absolute_loss_objective\": {\"sum\": 0.9174341678619384, \"count\": 1, \"min\": 0.9174341678619384, \"max\": 0.9174341678619384}}}\u001b[0m\n",
      "\u001b[34m[09/05/2024 13:45:49 INFO 140359332706112] #quality_metric: host=algo-1, epoch=3, train absolute_loss_objective <loss>=0.8475160217285156\u001b[0m\n",
      "\u001b[34m[09/05/2024 13:45:49 INFO 140359332706112] #early_stopping_criteria_metric: host=algo-1, epoch=3, criteria=absolute_loss_objective, value=0.2989544987678528\u001b[0m\n",
      "\u001b[34m[09/05/2024 13:45:49 INFO 140359332706112] Saving model for epoch: 3\u001b[0m\n",
      "\u001b[34m[09/05/2024 13:45:49 INFO 140359332706112] Saved checkpoint to \"/tmp/tmpamv_z0gu/mx-mod-0000.params\"\u001b[0m\n",
      "\u001b[34m[09/05/2024 13:45:49 INFO 140359332706112] #progress_metric: host=algo-1, completed 80.0 % of epochs\u001b[0m\n",
      "\u001b[34m#metrics {\"StartTime\": 1725543949.0340393, \"EndTime\": 1725543949.100378, \"Dimensions\": {\"Algorithm\": \"Linear Learner\", \"Host\": \"algo-1\", \"Operation\": \"training\", \"epoch\": 3, \"Meta\": \"training_data_iter\"}, \"Metrics\": {\"Total Records Seen\": {\"sum\": 145.0, \"count\": 1, \"min\": 145, \"max\": 145}, \"Total Batches Seen\": {\"sum\": 31.0, \"count\": 1, \"min\": 31, \"max\": 31}, \"Max Records Seen Between Resets\": {\"sum\": 28.0, \"count\": 1, \"min\": 28, \"max\": 28}, \"Max Batches Seen Between Resets\": {\"sum\": 6.0, \"count\": 1, \"min\": 6, \"max\": 6}, \"Reset Count\": {\"sum\": 6.0, \"count\": 1, \"min\": 6, \"max\": 6}, \"Number of Records Since Last Reset\": {\"sum\": 28.0, \"count\": 1, \"min\": 28, \"max\": 28}, \"Number of Batches Since Last Reset\": {\"sum\": 6.0, \"count\": 1, \"min\": 6, \"max\": 6}}}\u001b[0m\n",
      "\u001b[34m[09/05/2024 13:45:49 INFO 140359332706112] #throughput_metric: host=algo-1, train throughput=421.48816543625486 records/second\u001b[0m\n",
      "\u001b[34m[2024-09-05 13:45:49.158] [tensorio] [info] epoch_stats={\"data_pipeline\": \"/opt/ml/input/data/train\", \"epoch\": 12, \"duration\": 58, \"num_examples\": 6, \"num_bytes\": 1344}\u001b[0m\n",
      "\u001b[34m#metrics {\"StartTime\": 1725543949.1589317, \"EndTime\": 1725543949.1589887, \"Dimensions\": {\"Algorithm\": \"Linear Learner\", \"Host\": \"algo-1\", \"Operation\": \"training\", \"epoch\": 4, \"model\": 0}, \"Metrics\": {\"train_absolute_loss_objective\": {\"sum\": 0.8253787994384766, \"count\": 1, \"min\": 0.8253787994384766, \"max\": 0.8253787994384766}}}\u001b[0m\n",
      "\u001b[34m#metrics {\"StartTime\": 1725543949.1590545, \"EndTime\": 1725543949.1590636, \"Dimensions\": {\"Algorithm\": \"Linear Learner\", \"Host\": \"algo-1\", \"Operation\": \"training\", \"epoch\": 4, \"model\": 1}, \"Metrics\": {\"train_absolute_loss_objective\": {\"sum\": 0.8450069427490234, \"count\": 1, \"min\": 0.8450069427490234, \"max\": 0.8450069427490234}}}\u001b[0m\n",
      "\u001b[34m#metrics {\"StartTime\": 1725543949.1590877, \"EndTime\": 1725543949.1590939, \"Dimensions\": {\"Algorithm\": \"Linear Learner\", \"Host\": \"algo-1\", \"Operation\": \"training\", \"epoch\": 4, \"model\": 2}, \"Metrics\": {\"train_absolute_loss_objective\": {\"sum\": 0.827831106185913, \"count\": 1, \"min\": 0.827831106185913, \"max\": 0.827831106185913}}}\u001b[0m\n",
      "\u001b[34m#metrics {\"StartTime\": 1725543949.1591175, \"EndTime\": 1725543949.1591234, \"Dimensions\": {\"Algorithm\": \"Linear Learner\", \"Host\": \"algo-1\", \"Operation\": \"training\", \"epoch\": 4, \"model\": 3}, \"Metrics\": {\"train_absolute_loss_objective\": {\"sum\": 0.8439723873138427, \"count\": 1, \"min\": 0.8439723873138427, \"max\": 0.8439723873138427}}}\u001b[0m\n",
      "\u001b[34m#metrics {\"StartTime\": 1725543949.1591475, \"EndTime\": 1725543949.1591532, \"Dimensions\": {\"Algorithm\": \"Linear Learner\", \"Host\": \"algo-1\", \"Operation\": \"training\", \"epoch\": 4, \"model\": 4}, \"Metrics\": {\"train_absolute_loss_objective\": {\"sum\": 0.21511105537414552, \"count\": 1, \"min\": 0.21511105537414552, \"max\": 0.21511105537414552}}}\u001b[0m\n",
      "\u001b[34m#metrics {\"StartTime\": 1725543949.1591752, \"EndTime\": 1725543949.1591804, \"Dimensions\": {\"Algorithm\": \"Linear Learner\", \"Host\": \"algo-1\", \"Operation\": \"training\", \"epoch\": 4, \"model\": 5}, \"Metrics\": {\"train_absolute_loss_objective\": {\"sum\": 0.21163833379745484, \"count\": 1, \"min\": 0.21163833379745484, \"max\": 0.21163833379745484}}}\u001b[0m\n",
      "\u001b[34m#metrics {\"StartTime\": 1725543949.159199, \"EndTime\": 1725543949.159204, \"Dimensions\": {\"Algorithm\": \"Linear Learner\", \"Host\": \"algo-1\", \"Operation\": \"training\", \"epoch\": 4, \"model\": 6}, \"Metrics\": {\"train_absolute_loss_objective\": {\"sum\": 0.2482459354400635, \"count\": 1, \"min\": 0.2482459354400635, \"max\": 0.2482459354400635}}}\u001b[0m\n",
      "\u001b[34m#metrics {\"StartTime\": 1725543949.1592247, \"EndTime\": 1725543949.1592302, \"Dimensions\": {\"Algorithm\": \"Linear Learner\", \"Host\": \"algo-1\", \"Operation\": \"training\", \"epoch\": 4, \"model\": 7}, \"Metrics\": {\"train_absolute_loss_objective\": {\"sum\": 0.23334439992904663, \"count\": 1, \"min\": 0.23334439992904663, \"max\": 0.23334439992904663}}}\u001b[0m\n",
      "\u001b[34m#metrics {\"StartTime\": 1725543949.159249, \"EndTime\": 1725543949.1592543, \"Dimensions\": {\"Algorithm\": \"Linear Learner\", \"Host\": \"algo-1\", \"Operation\": \"training\", \"epoch\": 4, \"model\": 8}, \"Metrics\": {\"train_absolute_loss_objective\": {\"sum\": 0.8822251510620117, \"count\": 1, \"min\": 0.8822251510620117, \"max\": 0.8822251510620117}}}\u001b[0m\n",
      "\u001b[34m#metrics {\"StartTime\": 1725543949.1592743, \"EndTime\": 1725543949.1592793, \"Dimensions\": {\"Algorithm\": \"Linear Learner\", \"Host\": \"algo-1\", \"Operation\": \"training\", \"epoch\": 4, \"model\": 9}, \"Metrics\": {\"train_absolute_loss_objective\": {\"sum\": 0.8125401306152343, \"count\": 1, \"min\": 0.8125401306152343, \"max\": 0.8125401306152343}}}\u001b[0m\n",
      "\u001b[34m#metrics {\"StartTime\": 1725543949.1592972, \"EndTime\": 1725543949.1593025, \"Dimensions\": {\"Algorithm\": \"Linear Learner\", \"Host\": \"algo-1\", \"Operation\": \"training\", \"epoch\": 4, \"model\": 10}, \"Metrics\": {\"train_absolute_loss_objective\": {\"sum\": 0.8199671173095703, \"count\": 1, \"min\": 0.8199671173095703, \"max\": 0.8199671173095703}}}\u001b[0m\n",
      "\u001b[34m#metrics {\"StartTime\": 1725543949.1593232, \"EndTime\": 1725543949.1593282, \"Dimensions\": {\"Algorithm\": \"Linear Learner\", \"Host\": \"algo-1\", \"Operation\": \"training\", \"epoch\": 4, \"model\": 11}, \"Metrics\": {\"train_absolute_loss_objective\": {\"sum\": 0.8042897033691406, \"count\": 1, \"min\": 0.8042897033691406, \"max\": 0.8042897033691406}}}\u001b[0m\n",
      "\u001b[34m#metrics {\"StartTime\": 1725543949.159349, \"EndTime\": 1725543949.1593542, \"Dimensions\": {\"Algorithm\": \"Linear Learner\", \"Host\": \"algo-1\", \"Operation\": \"training\", \"epoch\": 4, \"model\": 12}, \"Metrics\": {\"train_absolute_loss_objective\": {\"sum\": 0.20378376245498658, \"count\": 1, \"min\": 0.20378376245498658, \"max\": 0.20378376245498658}}}\u001b[0m\n",
      "\u001b[34m#metrics {\"StartTime\": 1725543949.159372, \"EndTime\": 1725543949.1593773, \"Dimensions\": {\"Algorithm\": \"Linear Learner\", \"Host\": \"algo-1\", \"Operation\": \"training\", \"epoch\": 4, \"model\": 13}, \"Metrics\": {\"train_absolute_loss_objective\": {\"sum\": 0.24093839883804322, \"count\": 1, \"min\": 0.24093839883804322, \"max\": 0.24093839883804322}}}\u001b[0m\n",
      "\u001b[34m#metrics {\"StartTime\": 1725543949.159395, \"EndTime\": 1725543949.1594002, \"Dimensions\": {\"Algorithm\": \"Linear Learner\", \"Host\": \"algo-1\", \"Operation\": \"training\", \"epoch\": 4, \"model\": 14}, \"Metrics\": {\"train_absolute_loss_objective\": {\"sum\": 0.20453808069229126, \"count\": 1, \"min\": 0.20453808069229126, \"max\": 0.20453808069229126}}}\u001b[0m\n",
      "\u001b[34m#metrics {\"StartTime\": 1725543949.1594214, \"EndTime\": 1725543949.1594265, \"Dimensions\": {\"Algorithm\": \"Linear Learner\", \"Host\": \"algo-1\", \"Operation\": \"training\", \"epoch\": 4, \"model\": 15}, \"Metrics\": {\"train_absolute_loss_objective\": {\"sum\": 0.23858107566833497, \"count\": 1, \"min\": 0.23858107566833497, \"max\": 0.23858107566833497}}}\u001b[0m\n",
      "\u001b[34m#metrics {\"StartTime\": 1725543949.1594446, \"EndTime\": 1725543949.1594498, \"Dimensions\": {\"Algorithm\": \"Linear Learner\", \"Host\": \"algo-1\", \"Operation\": \"training\", \"epoch\": 4, \"model\": 16}, \"Metrics\": {\"train_absolute_loss_objective\": {\"sum\": 0.7898473739624023, \"count\": 1, \"min\": 0.7898473739624023, \"max\": 0.7898473739624023}}}\u001b[0m\n",
      "\u001b[34m#metrics {\"StartTime\": 1725543949.1594691, \"EndTime\": 1725543949.1594744, \"Dimensions\": {\"Algorithm\": \"Linear Learner\", \"Host\": \"algo-1\", \"Operation\": \"training\", \"epoch\": 4, \"model\": 17}, \"Metrics\": {\"train_absolute_loss_objective\": {\"sum\": 0.8410556983947753, \"count\": 1, \"min\": 0.8410556983947753, \"max\": 0.8410556983947753}}}\u001b[0m\n",
      "\u001b[34m#metrics {\"StartTime\": 1725543949.159497, \"EndTime\": 1725543949.1595025, \"Dimensions\": {\"Algorithm\": \"Linear Learner\", \"Host\": \"algo-1\", \"Operation\": \"training\", \"epoch\": 4, \"model\": 18}, \"Metrics\": {\"train_absolute_loss_objective\": {\"sum\": 0.817199420928955, \"count\": 1, \"min\": 0.817199420928955, \"max\": 0.817199420928955}}}\u001b[0m\n",
      "\u001b[34m#metrics {\"StartTime\": 1725543949.1595254, \"EndTime\": 1725543949.1595306, \"Dimensions\": {\"Algorithm\": \"Linear Learner\", \"Host\": \"algo-1\", \"Operation\": \"training\", \"epoch\": 4, \"model\": 19}, \"Metrics\": {\"train_absolute_loss_objective\": {\"sum\": 0.8138668537139893, \"count\": 1, \"min\": 0.8138668537139893, \"max\": 0.8138668537139893}}}\u001b[0m\n",
      "\u001b[34m#metrics {\"StartTime\": 1725543949.1595526, \"EndTime\": 1725543949.1595578, \"Dimensions\": {\"Algorithm\": \"Linear Learner\", \"Host\": \"algo-1\", \"Operation\": \"training\", \"epoch\": 4, \"model\": 20}, \"Metrics\": {\"train_absolute_loss_objective\": {\"sum\": 0.3173865556716919, \"count\": 1, \"min\": 0.3173865556716919, \"max\": 0.3173865556716919}}}\u001b[0m\n",
      "\u001b[34m#metrics {\"StartTime\": 1725543949.1595755, \"EndTime\": 1725543949.1595807, \"Dimensions\": {\"Algorithm\": \"Linear Learner\", \"Host\": \"algo-1\", \"Operation\": \"training\", \"epoch\": 4, \"model\": 21}, \"Metrics\": {\"train_absolute_loss_objective\": {\"sum\": 0.31164069175720216, \"count\": 1, \"min\": 0.31164069175720216, \"max\": 0.31164069175720216}}}\u001b[0m\n",
      "\u001b[34m#metrics {\"StartTime\": 1725543949.1595986, \"EndTime\": 1725543949.159604, \"Dimensions\": {\"Algorithm\": \"Linear Learner\", \"Host\": \"algo-1\", \"Operation\": \"training\", \"epoch\": 4, \"model\": 22}, \"Metrics\": {\"train_absolute_loss_objective\": {\"sum\": 0.5415447998046875, \"count\": 1, \"min\": 0.5415447998046875, \"max\": 0.5415447998046875}}}\u001b[0m\n",
      "\u001b[34m#metrics {\"StartTime\": 1725543949.1596217, \"EndTime\": 1725543949.1596267, \"Dimensions\": {\"Algorithm\": \"Linear Learner\", \"Host\": \"algo-1\", \"Operation\": \"training\", \"epoch\": 4, \"model\": 23}, \"Metrics\": {\"train_absolute_loss_objective\": {\"sum\": 0.3003616428375244, \"count\": 1, \"min\": 0.3003616428375244, \"max\": 0.3003616428375244}}}\u001b[0m\n",
      "\u001b[34m#metrics {\"StartTime\": 1725543949.1596448, \"EndTime\": 1725543949.15965, \"Dimensions\": {\"Algorithm\": \"Linear Learner\", \"Host\": \"algo-1\", \"Operation\": \"training\", \"epoch\": 4, \"model\": 24}, \"Metrics\": {\"train_absolute_loss_objective\": {\"sum\": 0.9290010452270507, \"count\": 1, \"min\": 0.9290010452270507, \"max\": 0.9290010452270507}}}\u001b[0m\n",
      "\u001b[34m#metrics {\"StartTime\": 1725543949.159668, \"EndTime\": 1725543949.159673, \"Dimensions\": {\"Algorithm\": \"Linear Learner\", \"Host\": \"algo-1\", \"Operation\": \"training\", \"epoch\": 4, \"model\": 25}, \"Metrics\": {\"train_absolute_loss_objective\": {\"sum\": 0.9104817199707032, \"count\": 1, \"min\": 0.9104817199707032, \"max\": 0.9104817199707032}}}\u001b[0m\n",
      "\u001b[34m#metrics {\"StartTime\": 1725543949.1596913, \"EndTime\": 1725543949.1596963, \"Dimensions\": {\"Algorithm\": \"Linear Learner\", \"Host\": \"algo-1\", \"Operation\": \"training\", \"epoch\": 4, \"model\": 26}, \"Metrics\": {\"train_absolute_loss_objective\": {\"sum\": 0.9204612255096436, \"count\": 1, \"min\": 0.9204612255096436, \"max\": 0.9204612255096436}}}\u001b[0m\n",
      "\u001b[34m#metrics {\"StartTime\": 1725543949.1597166, \"EndTime\": 1725543949.159722, \"Dimensions\": {\"Algorithm\": \"Linear Learner\", \"Host\": \"algo-1\", \"Operation\": \"training\", \"epoch\": 4, \"model\": 27}, \"Metrics\": {\"train_absolute_loss_objective\": {\"sum\": 0.915743293762207, \"count\": 1, \"min\": 0.915743293762207, \"max\": 0.915743293762207}}}\u001b[0m\n",
      "\u001b[34m#metrics {\"StartTime\": 1725543949.1597397, \"EndTime\": 1725543949.1597447, \"Dimensions\": {\"Algorithm\": \"Linear Learner\", \"Host\": \"algo-1\", \"Operation\": \"training\", \"epoch\": 4, \"model\": 28}, \"Metrics\": {\"train_absolute_loss_objective\": {\"sum\": 0.8920617961883545, \"count\": 1, \"min\": 0.8920617961883545, \"max\": 0.8920617961883545}}}\u001b[0m\n",
      "\u001b[34m#metrics {\"StartTime\": 1725543949.1597624, \"EndTime\": 1725543949.1597676, \"Dimensions\": {\"Algorithm\": \"Linear Learner\", \"Host\": \"algo-1\", \"Operation\": \"training\", \"epoch\": 4, \"model\": 29}, \"Metrics\": {\"train_absolute_loss_objective\": {\"sum\": 0.8918017387390137, \"count\": 1, \"min\": 0.8918017387390137, \"max\": 0.8918017387390137}}}\u001b[0m\n",
      "\u001b[34m#metrics {\"StartTime\": 1725543949.1597857, \"EndTime\": 1725543949.1597908, \"Dimensions\": {\"Algorithm\": \"Linear Learner\", \"Host\": \"algo-1\", \"Operation\": \"training\", \"epoch\": 4, \"model\": 30}, \"Metrics\": {\"train_absolute_loss_objective\": {\"sum\": 0.8897462654113769, \"count\": 1, \"min\": 0.8897462654113769, \"max\": 0.8897462654113769}}}\u001b[0m\n",
      "\u001b[34m#metrics {\"StartTime\": 1725543949.1598084, \"EndTime\": 1725543949.1598136, \"Dimensions\": {\"Algorithm\": \"Linear Learner\", \"Host\": \"algo-1\", \"Operation\": \"training\", \"epoch\": 4, \"model\": 31}, \"Metrics\": {\"train_absolute_loss_objective\": {\"sum\": 0.9333886528015136, \"count\": 1, \"min\": 0.9333886528015136, \"max\": 0.9333886528015136}}}\u001b[0m\n",
      "\u001b[34m[09/05/2024 13:45:49 INFO 140359332706112] #quality_metric: host=algo-1, epoch=4, train absolute_loss_objective <loss>=0.8253787994384766\u001b[0m\n",
      "\u001b[34m[09/05/2024 13:45:49 INFO 140359332706112] #early_stopping_criteria_metric: host=algo-1, epoch=4, criteria=absolute_loss_objective, value=0.20378376245498658\u001b[0m\n",
      "\u001b[34m[09/05/2024 13:45:49 INFO 140359332706112] Epoch 4: Loss improved. Updating best model\u001b[0m\n",
      "\u001b[34m[09/05/2024 13:45:49 INFO 140359332706112] Saving model for epoch: 4\u001b[0m\n",
      "\u001b[34m[09/05/2024 13:45:49 INFO 140359332706112] Saved checkpoint to \"/tmp/tmpfam0y2t7/mx-mod-0000.params\"\u001b[0m\n",
      "\u001b[34m[09/05/2024 13:45:49 INFO 140359332706112] #progress_metric: host=algo-1, completed 100.0 % of epochs\u001b[0m\n",
      "\u001b[34m#metrics {\"StartTime\": 1725543949.100543, \"EndTime\": 1725543949.1662898, \"Dimensions\": {\"Algorithm\": \"Linear Learner\", \"Host\": \"algo-1\", \"Operation\": \"training\", \"epoch\": 4, \"Meta\": \"training_data_iter\"}, \"Metrics\": {\"Total Records Seen\": {\"sum\": 173.0, \"count\": 1, \"min\": 173, \"max\": 173}, \"Total Batches Seen\": {\"sum\": 37.0, \"count\": 1, \"min\": 37, \"max\": 37}, \"Max Records Seen Between Resets\": {\"sum\": 28.0, \"count\": 1, \"min\": 28, \"max\": 28}, \"Max Batches Seen Between Resets\": {\"sum\": 6.0, \"count\": 1, \"min\": 6, \"max\": 6}, \"Reset Count\": {\"sum\": 7.0, \"count\": 1, \"min\": 7, \"max\": 7}, \"Number of Records Since Last Reset\": {\"sum\": 28.0, \"count\": 1, \"min\": 28, \"max\": 28}, \"Number of Batches Since Last Reset\": {\"sum\": 6.0, \"count\": 1, \"min\": 6, \"max\": 6}}}\u001b[0m\n",
      "\u001b[34m[09/05/2024 13:45:49 INFO 140359332706112] #throughput_metric: host=algo-1, train throughput=425.3226375393396 records/second\u001b[0m\n",
      "\u001b[34m[09/05/2024 13:45:49 WARNING 140359332706112] wait_for_all_workers will not sync workers since the kv store is not running distributed\u001b[0m\n",
      "\u001b[34m[09/05/2024 13:45:49 WARNING 140359332706112] wait_for_all_workers will not sync workers since the kv store is not running distributed\u001b[0m\n",
      "\u001b[34m[2024-09-05 13:45:49.166] [tensorio] [info] epoch_stats={\"data_pipeline\": \"/opt/ml/input/data/train\", \"epoch\": 14, \"duration\": 0, \"num_examples\": 1, \"num_bytes\": 240}\u001b[0m\n",
      "\u001b[34m[2024-09-05 13:45:49.174] [tensorio] [info] epoch_stats={\"data_pipeline\": \"/opt/ml/input/data/train\", \"epoch\": 16, \"duration\": 5, \"num_examples\": 6, \"num_bytes\": 1344}\u001b[0m\n",
      "\u001b[34m[09/05/2024 13:45:49 INFO 140359332706112] #train_score (algo-1) : ('absolute_loss_objective', 6298.377650669643)\u001b[0m\n",
      "\u001b[34m[09/05/2024 13:45:49 INFO 140359332706112] #train_score (algo-1) : ('mse', 58420484.571428575)\u001b[0m\n",
      "\u001b[34m[09/05/2024 13:45:49 INFO 140359332706112] #train_score (algo-1) : ('absolute_loss', 6298.377650669643)\u001b[0m\n",
      "\u001b[34m[09/05/2024 13:45:49 INFO 140359332706112] #train_score (algo-1) : ('rmse', 7643.329416650088)\u001b[0m\n",
      "\u001b[34m[09/05/2024 13:45:49 INFO 140359332706112] #train_score (algo-1) : ('r2', 0.9431776943903701)\u001b[0m\n",
      "\u001b[34m[09/05/2024 13:45:49 INFO 140359332706112] #train_score (algo-1) : ('mae', 6298.377650669643)\u001b[0m\n",
      "\u001b[34m[09/05/2024 13:45:49 INFO 140359332706112] #quality_metric: host=algo-1, train absolute_loss_objective <loss>=6298.377650669643\u001b[0m\n",
      "\u001b[34m[09/05/2024 13:45:49 INFO 140359332706112] #quality_metric: host=algo-1, train mse <loss>=58420484.571428575\u001b[0m\n",
      "\u001b[34m[09/05/2024 13:45:49 INFO 140359332706112] #quality_metric: host=algo-1, train absolute_loss <loss>=6298.377650669643\u001b[0m\n",
      "\u001b[34m[09/05/2024 13:45:49 INFO 140359332706112] #quality_metric: host=algo-1, train rmse <loss>=7643.329416650088\u001b[0m\n",
      "\u001b[34m[09/05/2024 13:45:49 INFO 140359332706112] #quality_metric: host=algo-1, train r2 <loss>=0.9431776943903701\u001b[0m\n",
      "\u001b[34m[09/05/2024 13:45:49 INFO 140359332706112] #quality_metric: host=algo-1, train mae <loss>=6298.377650669643\u001b[0m\n",
      "\u001b[34m[09/05/2024 13:45:49 INFO 140359332706112] Best model found for hyperparameters: {\"optimizer\": \"adam\", \"learning_rate\": 0.1, \"wd\": 0.01, \"l1\": 0.0, \"lr_scheduler_step\": 10, \"lr_scheduler_factor\": 0.99, \"lr_scheduler_minimum_lr\": 1e-05}\u001b[0m\n",
      "\u001b[34m[09/05/2024 13:45:49 INFO 140359332706112] Saved checkpoint to \"/tmp/tmpks6wfmtk/mx-mod-0000.params\"\u001b[0m\n",
      "\u001b[34m[09/05/2024 13:45:49 INFO 140359332706112] Test data is not provided.\u001b[0m\n",
      "\u001b[34m#metrics {\"StartTime\": 1725543948.7174673, \"EndTime\": 1725543949.1804423, \"Dimensions\": {\"Algorithm\": \"Linear Learner\", \"Host\": \"algo-1\", \"Operation\": \"training\"}, \"Metrics\": {\"initialize.time\": {\"sum\": 116.55116081237793, \"count\": 1, \"min\": 116.55116081237793, \"max\": 116.55116081237793}, \"epochs\": {\"sum\": 5.0, \"count\": 1, \"min\": 5, \"max\": 5}, \"check_early_stopping.time\": {\"sum\": 3.3044815063476562, \"count\": 5, \"min\": 0.1804828643798828, \"max\": 0.8456707000732422}, \"update.time\": {\"sum\": 320.01519203186035, \"count\": 5, \"min\": 57.59716033935547, \"max\": 69.71979141235352}, \"finalize.time\": {\"sum\": 9.417295455932617, \"count\": 1, \"min\": 9.417295455932617, \"max\": 9.417295455932617}, \"setuptime\": {\"sum\": 1.7557144165039062, \"count\": 1, \"min\": 1.7557144165039062, \"max\": 1.7557144165039062}, \"totaltime\": {\"sum\": 552.8874397277832, \"count\": 1, \"min\": 552.8874397277832, \"max\": 552.8874397277832}}}\u001b[0m\n",
      "\n",
      "2024-09-05 13:46:06 Completed - Training job completed\n",
      "Training seconds: 150\n",
      "Billable seconds: 50\n",
      "Managed Spot Training savings: 66.7%\n"
     ]
    }
   ],
   "source": [
    "linear = sagemaker.estimator.Estimator(container,\n",
    "                                       role,\n",
    "                                       instance_count = 1,\n",
    "                                       instance_type = 'ml.c4.xlarge',\n",
    "                                       sagemaker_session=sagemaker_session,\n",
    "                                       train_use_spot_instances = True,\n",
    "                                       train_max_run = 100,\n",
    "                                       train_max_wait = 600\n",
    ")\n",
    "\n",
    "#Tune the parameters like the number of features that we are passing in, type of predictor like 'regressor' or 'classifier', mini batch size, epochs\n",
    "\n",
    "# Train 32 different versions of the model and will get the best out of them (built-in parameters optimization!)\n",
    "linear.set_hyperparameters(feature_dim = 1,\n",
    "                          predictor_type = 'regressor',\n",
    "                          mini_batch_size = 5,\n",
    "                          epochs = 5,\n",
    "                          num_models = 32,\n",
    "                          loss = 'absolute_loss')\n",
    "\n",
    "# Now we are ready to pass in the training data from S3 to train the linear learner model\n",
    "linear.fit({'train': s3_train_data})"
   ]
  },
  {
   "cell_type": "markdown",
   "id": "10d8f25f-0dc7-44f9-a67e-378006e9fdd2",
   "metadata": {},
   "source": [
    "#### TASK 8: DEPLOY AND TEST THE TRAINED LINEAR LEARNER MODEL"
   ]
  },
  {
   "cell_type": "code",
   "execution_count": 53,
   "id": "61f6d2b3-ea70-40bb-b3b9-414de0b46fed",
   "metadata": {},
   "outputs": [
    {
     "name": "stderr",
     "output_type": "stream",
     "text": [
      "INFO:sagemaker:Creating model with name: linear-learner-2024-09-05-13-46-42-573\n",
      "INFO:sagemaker:Creating endpoint-config with name linear-learner-2024-09-05-13-46-42-573\n",
      "INFO:sagemaker:Creating endpoint with name linear-learner-2024-09-05-13-46-42-573\n"
     ]
    },
    {
     "name": "stdout",
     "output_type": "stream",
     "text": [
      "-------!"
     ]
    }
   ],
   "source": [
    "# Deploying the model to perform inference \n",
    "\n",
    "linear_regressor = linear.deploy(initial_instance_count=1, instance_type='ml.m4.xlarge')"
   ]
  },
  {
   "cell_type": "code",
   "execution_count": 55,
   "id": "1b5d49f7-ade0-4fd2-921c-c37b0f01ba50",
   "metadata": {},
   "outputs": [],
   "source": [
    "#To make inferences on the model, pass the data in text csv format\n",
    "linear_regressor.content_type= 'text/csv'\n",
    "linear_regressor.serializer = CSVSerializer()\n",
    "linear_regressor.deserializerr = JSONDeserializer()"
   ]
  },
  {
   "cell_type": "code",
   "execution_count": 74,
   "id": "d9adfa25-6d63-4f79-b38c-e2d623691c90",
   "metadata": {},
   "outputs": [],
   "source": [
    "#Making prediction on the test data\n",
    "result = linear_regressor.predict(X_test).decode('utf-8')"
   ]
  },
  {
   "cell_type": "code",
   "execution_count": 75,
   "id": "0d47cba8-6a5b-4a22-a9f9-ed26ff85e68e",
   "metadata": {},
   "outputs": [
    {
     "data": {
      "text/plain": [
       "'{\"predictions\": [{\"score\": 124073.796875}, {\"score\": 92629.265625}, {\"score\": 62034.5859375}, {\"score\": 149569.359375}, {\"score\": 73082.6640625}, {\"score\": 79881.484375}, {\"score\": 62034.5859375}]}'"
      ]
     },
     "execution_count": 75,
     "metadata": {},
     "output_type": "execute_result"
    }
   ],
   "source": [
    "result"
   ]
  },
  {
   "cell_type": "code",
   "execution_count": 76,
   "id": "1a3c3787-53f3-4243-a9f7-7562c089dfd4",
   "metadata": {},
   "outputs": [
    {
     "name": "stdout",
     "output_type": "stream",
     "text": [
      "{\"predictions\": [{\"score\": 124073.796875}, {\"score\": 92629.265625}, {\"score\": 62034.5859375}, {\"score\": 149569.359375}, {\"score\": 73082.6640625}, {\"score\": 79881.484375}, {\"score\": 62034.5859375}]}\n"
     ]
    }
   ],
   "source": [
    "pattern = r'\\\"(\\w)\\\":'\n",
    "cleaned_data = re.sub(pattern, r'\\1:', result)\n",
    "print(cleaned_data)"
   ]
  },
  {
   "cell_type": "code",
   "execution_count": 80,
   "id": "8439715c-fcc1-474f-b79b-7e851403d357",
   "metadata": {},
   "outputs": [
    {
     "name": "stderr",
     "output_type": "stream",
     "text": [
      "INFO:sagemaker:Deleting endpoint configuration with name: linear-learner-2024-09-05-13-46-42-573\n",
      "INFO:sagemaker:Deleting endpoint with name: linear-learner-2024-09-05-13-46-42-573\n"
     ]
    }
   ],
   "source": [
    "# Delete the end-point\n",
    "\n",
    "linear_regressor.delete_endpoint()"
   ]
  },
  {
   "cell_type": "code",
   "execution_count": null,
   "id": "53685528-44bc-416b-9373-1cd6d8fcb517",
   "metadata": {},
   "outputs": [],
   "source": []
  },
  {
   "cell_type": "code",
   "execution_count": null,
   "id": "0bf230e1-2067-41ff-8eeb-60a96b0bf446",
   "metadata": {},
   "outputs": [],
   "source": []
  }
 ],
 "metadata": {
  "kernelspec": {
   "display_name": "Python 3 (ipykernel)",
   "language": "python",
   "name": "python3"
  },
  "language_info": {
   "codemirror_mode": {
    "name": "ipython",
    "version": 3
   },
   "file_extension": ".py",
   "mimetype": "text/x-python",
   "name": "python",
   "nbconvert_exporter": "python",
   "pygments_lexer": "ipython3",
   "version": "3.10.14"
  }
 },
 "nbformat": 4,
 "nbformat_minor": 5
}
